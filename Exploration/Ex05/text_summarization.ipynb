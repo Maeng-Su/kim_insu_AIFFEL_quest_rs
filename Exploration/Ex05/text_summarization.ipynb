{
 "cells": [
  {
   "cell_type": "markdown",
   "id": "06e981a2",
   "metadata": {},
   "source": [
    "# 뉴스 기사 데이터(news_summary_more.csv) 요약하기"
   ]
  },
  {
   "cell_type": "code",
   "execution_count": 1,
   "id": "f810d68a",
   "metadata": {},
   "outputs": [
    {
     "data": {
      "text/html": [
       "<div>\n",
       "<style scoped>\n",
       "    .dataframe tbody tr th:only-of-type {\n",
       "        vertical-align: middle;\n",
       "    }\n",
       "\n",
       "    .dataframe tbody tr th {\n",
       "        vertical-align: top;\n",
       "    }\n",
       "\n",
       "    .dataframe thead th {\n",
       "        text-align: right;\n",
       "    }\n",
       "</style>\n",
       "<table border=\"1\" class=\"dataframe\">\n",
       "  <thead>\n",
       "    <tr style=\"text-align: right;\">\n",
       "      <th></th>\n",
       "      <th>headlines</th>\n",
       "      <th>text</th>\n",
       "    </tr>\n",
       "  </thead>\n",
       "  <tbody>\n",
       "    <tr>\n",
       "      <th>84561</th>\n",
       "      <td>Bumrah's front foot no-ball cancels Pak's Fakh...</td>\n",
       "      <td>Indian pacer Jasprit Bumrah had dismissed Paki...</td>\n",
       "    </tr>\n",
       "    <tr>\n",
       "      <th>6876</th>\n",
       "      <td>Body of 22-yr-old man found at same spot where...</td>\n",
       "      <td>The body of a 22-year-old man was found on Sun...</td>\n",
       "    </tr>\n",
       "    <tr>\n",
       "      <th>22562</th>\n",
       "      <td>Actor Imran gets email addressed to PTI chief ...</td>\n",
       "      <td>Actor Imran Khan has shared a screenshot of an...</td>\n",
       "    </tr>\n",
       "    <tr>\n",
       "      <th>58588</th>\n",
       "      <td>Hizbul chief's son injured in scuffle with Tih...</td>\n",
       "      <td>Hizbul Mujahideen chief Syed Salahuddin's son,...</td>\n",
       "    </tr>\n",
       "    <tr>\n",
       "      <th>44192</th>\n",
       "      <td>Sonu Ke... beats Pad Man, becomes 2018Ã¢ÂÂs ...</td>\n",
       "      <td>The Luv Ranjan directorial 'Sonu Ke Titu Ki Sw...</td>\n",
       "    </tr>\n",
       "    <tr>\n",
       "      <th>42825</th>\n",
       "      <td>Publishing house apologises over book on Sanja...</td>\n",
       "      <td>Juggernaut Books, while apologising over the b...</td>\n",
       "    </tr>\n",
       "    <tr>\n",
       "      <th>83326</th>\n",
       "      <td>Dhoni's wife Sakshi posts photo with Bravo, Dh...</td>\n",
       "      <td>MS Dhoni's wife Sakshi posted a picture on Ins...</td>\n",
       "    </tr>\n",
       "    <tr>\n",
       "      <th>75372</th>\n",
       "      <td>85% of Kaziranga National Park in Assam floode...</td>\n",
       "      <td>Nearly 85% of the Kaziranga National Park in A...</td>\n",
       "    </tr>\n",
       "    <tr>\n",
       "      <th>46964</th>\n",
       "      <td>WB tribal woman gangraped, rod inserted in her...</td>\n",
       "      <td>A group of men allegedly gangraped a tribal wo...</td>\n",
       "    </tr>\n",
       "    <tr>\n",
       "      <th>19168</th>\n",
       "      <td>UK murder suspect jailed for not giving Facebo...</td>\n",
       "      <td>A UK man suspected of murdering a schoolgirl h...</td>\n",
       "    </tr>\n",
       "  </tbody>\n",
       "</table>\n",
       "</div>"
      ],
      "text/plain": [
       "                                               headlines  \\\n",
       "84561  Bumrah's front foot no-ball cancels Pak's Fakh...   \n",
       "6876   Body of 22-yr-old man found at same spot where...   \n",
       "22562  Actor Imran gets email addressed to PTI chief ...   \n",
       "58588  Hizbul chief's son injured in scuffle with Tih...   \n",
       "44192  Sonu Ke... beats Pad Man, becomes 2018Ã¢ÂÂs ...   \n",
       "42825  Publishing house apologises over book on Sanja...   \n",
       "83326  Dhoni's wife Sakshi posts photo with Bravo, Dh...   \n",
       "75372  85% of Kaziranga National Park in Assam floode...   \n",
       "46964  WB tribal woman gangraped, rod inserted in her...   \n",
       "19168  UK murder suspect jailed for not giving Facebo...   \n",
       "\n",
       "                                                    text  \n",
       "84561  Indian pacer Jasprit Bumrah had dismissed Paki...  \n",
       "6876   The body of a 22-year-old man was found on Sun...  \n",
       "22562  Actor Imran Khan has shared a screenshot of an...  \n",
       "58588  Hizbul Mujahideen chief Syed Salahuddin's son,...  \n",
       "44192  The Luv Ranjan directorial 'Sonu Ke Titu Ki Sw...  \n",
       "42825  Juggernaut Books, while apologising over the b...  \n",
       "83326  MS Dhoni's wife Sakshi posted a picture on Ins...  \n",
       "75372  Nearly 85% of the Kaziranga National Park in A...  \n",
       "46964  A group of men allegedly gangraped a tribal wo...  \n",
       "19168  A UK man suspected of murdering a schoolgirl h...  "
      ]
     },
     "execution_count": 1,
     "metadata": {},
     "output_type": "execute_result"
    }
   ],
   "source": [
    "# 데이터 다운로드\n",
    "from importlib.metadata import version\n",
    "import nltk\n",
    "import tensorflow\n",
    "import summa\n",
    "import pandas as pd\n",
    "import urllib.request\n",
    "urllib.request.urlretrieve(\"https://raw.githubusercontent.com/sunnysai12345/News_Summary/master/news_summary_more.csv\", filename=\"news_summary_more.csv\")\n",
    "data = pd.read_csv('news_summary_more.csv', encoding='iso-8859-1')\n",
    "data.sample(10)"
   ]
  },
  {
   "cell_type": "code",
   "execution_count": 2,
   "id": "1103dc4b",
   "metadata": {},
   "outputs": [
    {
     "name": "stderr",
     "output_type": "stream",
     "text": [
      "[nltk_data] Downloading package stopwords to /aiffel/nltk_data...\n",
      "[nltk_data]   Unzipping corpora/stopwords.zip.\n",
      "Matplotlib is building the font cache; this may take a moment.\n"
     ]
    }
   ],
   "source": [
    "import nltk\n",
    "nltk.download('stopwords')\n",
    "\n",
    "import numpy as np\n",
    "import pandas as pd\n",
    "import os\n",
    "import re\n",
    "import matplotlib.pyplot as plt\n",
    "from nltk.corpus import stopwords\n",
    "from bs4 import BeautifulSoup \n",
    "from tensorflow.keras.preprocessing.text import Tokenizer \n",
    "from tensorflow.keras.preprocessing.sequence import pad_sequences\n",
    "import urllib.request\n",
    "import warnings\n",
    "warnings.filterwarnings(\"ignore\", category=UserWarning, module='bs4')"
   ]
  },
  {
   "cell_type": "code",
   "execution_count": 6,
   "id": "0338d164",
   "metadata": {},
   "outputs": [
    {
     "name": "stdout",
     "output_type": "stream",
     "text": [
      "headlines 열에서 중복을 배제한 유일한 샘플의 수 : 98280\n",
      "text 열에서 중복을 배제한 유일한 샘플의 수 : 98360\n"
     ]
    }
   ],
   "source": [
    "print('headlines 열에서 중복을 배제한 유일한 샘플의 수 :', data['headlines'].nunique())\n",
    "print('text 열에서 중복을 배제한 유일한 샘플의 수 :', data['text'].nunique())"
   ]
  },
  {
   "cell_type": "code",
   "execution_count": 7,
   "id": "95df1a4d",
   "metadata": {},
   "outputs": [
    {
     "name": "stdout",
     "output_type": "stream",
     "text": [
      "전체 샘플수 : 98280\n"
     ]
    }
   ],
   "source": [
    "data.drop_duplicates(subset = ['headlines'], inplace=True)\n",
    "print('전체 샘플수 :', (len(data)))"
   ]
  },
  {
   "cell_type": "code",
   "execution_count": 8,
   "id": "071180e6",
   "metadata": {},
   "outputs": [
    {
     "name": "stdout",
     "output_type": "stream",
     "text": [
      "headlines    0\n",
      "text         0\n",
      "dtype: int64\n"
     ]
    }
   ],
   "source": [
    "print(data.isnull().sum())"
   ]
  },
  {
   "cell_type": "code",
   "execution_count": 9,
   "id": "306ae990",
   "metadata": {},
   "outputs": [
    {
     "name": "stdout",
     "output_type": "stream",
     "text": [
      "전체 샘플수 : 98280\n"
     ]
    }
   ],
   "source": [
    "data.dropna(axis=0, inplace=True)\n",
    "print('전체 샘플수 :', (len(data)))"
   ]
  },
  {
   "cell_type": "code",
   "execution_count": 10,
   "id": "6157719d",
   "metadata": {},
   "outputs": [
    {
     "name": "stdout",
     "output_type": "stream",
     "text": [
      "정규화 사전의 수:  120\n"
     ]
    }
   ],
   "source": [
    "contractions = {\"ain't\": \"is not\", \"aren't\": \"are not\",\"can't\": \"cannot\", \"'cause\": \"because\", \"could've\": \"could have\", \"couldn't\": \"could not\",\n",
    "                           \"didn't\": \"did not\",  \"doesn't\": \"does not\", \"don't\": \"do not\", \"hadn't\": \"had not\", \"hasn't\": \"has not\", \"haven't\": \"have not\",\n",
    "                           \"he'd\": \"he would\",\"he'll\": \"he will\", \"he's\": \"he is\", \"how'd\": \"how did\", \"how'd'y\": \"how do you\", \"how'll\": \"how will\", \"how's\": \"how is\",\n",
    "                           \"I'd\": \"I would\", \"I'd've\": \"I would have\", \"I'll\": \"I will\", \"I'll've\": \"I will have\",\"I'm\": \"I am\", \"I've\": \"I have\", \"i'd\": \"i would\",\n",
    "                           \"i'd've\": \"i would have\", \"i'll\": \"i will\",  \"i'll've\": \"i will have\",\"i'm\": \"i am\", \"i've\": \"i have\", \"isn't\": \"is not\", \"it'd\": \"it would\",\n",
    "                           \"it'd've\": \"it would have\", \"it'll\": \"it will\", \"it'll've\": \"it will have\",\"it's\": \"it is\", \"let's\": \"let us\", \"ma'am\": \"madam\",\n",
    "                           \"mayn't\": \"may not\", \"might've\": \"might have\",\"mightn't\": \"might not\",\"mightn't've\": \"might not have\", \"must've\": \"must have\",\n",
    "                           \"mustn't\": \"must not\", \"mustn't've\": \"must not have\", \"needn't\": \"need not\", \"needn't've\": \"need not have\",\"o'clock\": \"of the clock\",\n",
    "                           \"oughtn't\": \"ought not\", \"oughtn't've\": \"ought not have\", \"shan't\": \"shall not\", \"sha'n't\": \"shall not\", \"shan't've\": \"shall not have\",\n",
    "                           \"she'd\": \"she would\", \"she'd've\": \"she would have\", \"she'll\": \"she will\", \"she'll've\": \"she will have\", \"she's\": \"she is\",\n",
    "                           \"should've\": \"should have\", \"shouldn't\": \"should not\", \"shouldn't've\": \"should not have\", \"so've\": \"so have\",\"so's\": \"so as\",\n",
    "                           \"this's\": \"this is\",\"that'd\": \"that would\", \"that'd've\": \"that would have\", \"that's\": \"that is\", \"there'd\": \"there would\",\n",
    "                           \"there'd've\": \"there would have\", \"there's\": \"there is\", \"here's\": \"here is\",\"they'd\": \"they would\", \"they'd've\": \"they would have\",\n",
    "                           \"they'll\": \"they will\", \"they'll've\": \"they will have\", \"they're\": \"they are\", \"they've\": \"they have\", \"to've\": \"to have\",\n",
    "                           \"wasn't\": \"was not\", \"we'd\": \"we would\", \"we'd've\": \"we would have\", \"we'll\": \"we will\", \"we'll've\": \"we will have\", \"we're\": \"we are\",\n",
    "                           \"we've\": \"we have\", \"weren't\": \"were not\", \"what'll\": \"what will\", \"what'll've\": \"what will have\", \"what're\": \"what are\",\n",
    "                           \"what's\": \"what is\", \"what've\": \"what have\", \"when's\": \"when is\", \"when've\": \"when have\", \"where'd\": \"where did\", \"where's\": \"where is\",\n",
    "                           \"where've\": \"where have\", \"who'll\": \"who will\", \"who'll've\": \"who will have\", \"who's\": \"who is\", \"who've\": \"who have\",\n",
    "                           \"why's\": \"why is\", \"why've\": \"why have\", \"will've\": \"will have\", \"won't\": \"will not\", \"won't've\": \"will not have\",\n",
    "                           \"would've\": \"would have\", \"wouldn't\": \"would not\", \"wouldn't've\": \"would not have\", \"y'all\": \"you all\",\n",
    "                           \"y'all'd\": \"you all would\",\"y'all'd've\": \"you all would have\",\"y'all're\": \"you all are\",\"y'all've\": \"you all have\",\n",
    "                           \"you'd\": \"you would\", \"you'd've\": \"you would have\", \"you'll\": \"you will\", \"you'll've\": \"you will have\",\n",
    "                           \"you're\": \"you are\", \"you've\": \"you have\"}\n",
    "\n",
    "print(\"정규화 사전의 수: \", len(contractions))"
   ]
  },
  {
   "cell_type": "code",
   "execution_count": 11,
   "id": "b24f1b2f",
   "metadata": {},
   "outputs": [
    {
     "name": "stdout",
     "output_type": "stream",
     "text": [
      "불용어 개수 : 179\n",
      "['i', 'me', 'my', 'myself', 'we', 'our', 'ours', 'ourselves', 'you', \"you're\", \"you've\", \"you'll\", \"you'd\", 'your', 'yours', 'yourself', 'yourselves', 'he', 'him', 'his', 'himself', 'she', \"she's\", 'her', 'hers', 'herself', 'it', \"it's\", 'its', 'itself', 'they', 'them', 'their', 'theirs', 'themselves', 'what', 'which', 'who', 'whom', 'this', 'that', \"that'll\", 'these', 'those', 'am', 'is', 'are', 'was', 'were', 'be', 'been', 'being', 'have', 'has', 'had', 'having', 'do', 'does', 'did', 'doing', 'a', 'an', 'the', 'and', 'but', 'if', 'or', 'because', 'as', 'until', 'while', 'of', 'at', 'by', 'for', 'with', 'about', 'against', 'between', 'into', 'through', 'during', 'before', 'after', 'above', 'below', 'to', 'from', 'up', 'down', 'in', 'out', 'on', 'off', 'over', 'under', 'again', 'further', 'then', 'once', 'here', 'there', 'when', 'where', 'why', 'how', 'all', 'any', 'both', 'each', 'few', 'more', 'most', 'other', 'some', 'such', 'no', 'nor', 'not', 'only', 'own', 'same', 'so', 'than', 'too', 'very', 's', 't', 'can', 'will', 'just', 'don', \"don't\", 'should', \"should've\", 'now', 'd', 'll', 'm', 'o', 're', 've', 'y', 'ain', 'aren', \"aren't\", 'couldn', \"couldn't\", 'didn', \"didn't\", 'doesn', \"doesn't\", 'hadn', \"hadn't\", 'hasn', \"hasn't\", 'haven', \"haven't\", 'isn', \"isn't\", 'ma', 'mightn', \"mightn't\", 'mustn', \"mustn't\", 'needn', \"needn't\", 'shan', \"shan't\", 'shouldn', \"shouldn't\", 'wasn', \"wasn't\", 'weren', \"weren't\", 'won', \"won't\", 'wouldn', \"wouldn't\"]\n"
     ]
    }
   ],
   "source": [
    "print('불용어 개수 :', len(stopwords.words('english') ))\n",
    "print(stopwords.words('english'))"
   ]
  },
  {
   "cell_type": "code",
   "execution_count": 13,
   "id": "32034f25",
   "metadata": {},
   "outputs": [],
   "source": [
    "# 데이터 전처리 함수\n",
    "def preprocess_sentence(sentence, remove_stopwords=True):\n",
    "    sentence = sentence.lower() # 텍스트 소문자화\n",
    "    sentence = BeautifulSoup(sentence, \"lxml\").text # <br />, <a href = ...> 등의 html 태그 제거\n",
    "    sentence = re.sub(r'\\([^)]*\\)', '', sentence) # 괄호로 닫힌 문자열 (...) 제거 Ex) my husband (and myself!) for => my husband for\n",
    "    sentence = re.sub('\"','', sentence) # 쌍따옴표 \" 제거\n",
    "    sentence = ' '.join([contractions[t] if t in contractions else t for t in sentence.split(\" \")]) # 약어 정규화\n",
    "    sentence = re.sub(r\"'s\\b\",\"\", sentence) # 소유격 제거. Ex) roland's -> roland\n",
    "    sentence = re.sub(\"[^a-zA-Z]\", \" \", sentence) # 영어 외 문자(숫자, 특수문자 등) 공백으로 변환\n",
    "    sentence = re.sub('[m]{2,}', 'mm', sentence) # m이 3개 이상이면 2개로 변경. Ex) ummmmmmm yeah -> umm yeah\n",
    "    \n",
    "    # 불용어 제거 (Text)\n",
    "    if remove_stopwords:\n",
    "        tokens = ' '.join(word for word in sentence.split() if not word in stopwords.words('english') if len(word) > 1)\n",
    "    # 불용어 미제거 (Summary)\n",
    "    else:\n",
    "        tokens = ' '.join(word for word in sentence.split() if len(word) > 1)\n",
    "    return tokens"
   ]
  },
  {
   "cell_type": "code",
   "execution_count": 16,
   "id": "5e4975b7",
   "metadata": {},
   "outputs": [
    {
     "name": "stdout",
     "output_type": "stream",
     "text": [
      "Text 전처리 후 결과:  ['saurav kant alumnus upgrad iiit pg program machine learning artificial intelligence sr systems engineer infosys almost years work experience program upgrad degree career support helped transition data scientist tech mahindra salary hike upgrad online power learning powered lakh careers', 'kunal shah credit card bill payment platform cred gave users chance win free food swiggy one year pranav kaushik delhi techie bagged reward spending cred coins users get one cred coin per rupee bill paid used avail rewards brands like ixigo bookmyshow ubereats cult fit', 'new zealand defeated india wickets fourth odi hamilton thursday win first match five match odi series india lost international match rohit sharma captaincy consecutive victories dating back march match witnessed india getting seventh lowest total odi cricket history', 'aegon life iterm insurance plan customers enjoy tax benefits premiums paid save taxes plan provides life cover age years also customers options insure critical illnesses disability accidental death benefit rider life cover age years', 'speaking sexual harassment allegations rajkumar hirani sonam kapoor said known hirani many years true metoo movement get derailed metoo movement always believe woman case need reserve judgment added hirani accused assistant worked sanju']\n"
     ]
    }
   ],
   "source": [
    "# 전체 Text 데이터에 대한 전처리 : 10분 이상 시간이 걸릴 수 있습니다. \n",
    "clean_text = [row for row in data[\"text\"].map(lambda x:preprocess_sentence(x, remove_stopwords=True))]\n",
    "\n",
    "# 전처리 후 출력\n",
    "print(\"Text 전처리 후 결과: \", clean_text[:5])"
   ]
  },
  {
   "cell_type": "code",
   "execution_count": 17,
   "id": "c5afd9d0",
   "metadata": {},
   "outputs": [
    {
     "name": "stdout",
     "output_type": "stream",
     "text": [
      "Summary 전처리 후 결과:  ['upgrad learner switches to career in ml al with salary hike', 'delhi techie wins free food from swiggy for one year on cred', 'new zealand end rohit sharma led india match winning streak', 'aegon life iterm insurance plan helps customers save tax', 'have known hirani for yrs what if metoo claims are not true sonam']\n"
     ]
    }
   ],
   "source": [
    "# 전체 Summary 데이터에 대한 전처리 : 5분 이상 시간이 걸릴 수 있습니다. \n",
    "clean_summary = [row for row in data[\"headlines\"].map(lambda x:preprocess_sentence(x, remove_stopwords=False))]\n",
    "\n",
    "print(\"Summary 전처리 후 결과: \", clean_summary[:5])"
   ]
  },
  {
   "cell_type": "code",
   "execution_count": 18,
   "id": "0d4fb249",
   "metadata": {},
   "outputs": [
    {
     "name": "stdout",
     "output_type": "stream",
     "text": [
      "=3\n"
     ]
    }
   ],
   "source": [
    "data['Text'] = clean_text\n",
    "data['Summary'] = clean_summary\n",
    "\n",
    "# 빈 값을 Null 값으로 변환\n",
    "data.replace('', np.nan, inplace=True)"
   ]
  },
  {
   "cell_type": "code",
   "execution_count": 19,
   "id": "8b2445a0",
   "metadata": {},
   "outputs": [],
   "source": [
    "data = data[['Text', 'Summary']]"
   ]
  },
  {
   "cell_type": "code",
   "execution_count": 20,
   "id": "e25d2732",
   "metadata": {},
   "outputs": [
    {
     "data": {
      "text/plain": [
       "Text       0\n",
       "Summary    0\n",
       "dtype: int64"
      ]
     },
     "execution_count": 20,
     "metadata": {},
     "output_type": "execute_result"
    }
   ],
   "source": [
    "data.isnull().sum() # 전처리 후 발생한 null값을 추가로 drop"
   ]
  },
  {
   "cell_type": "code",
   "execution_count": 21,
   "id": "0ddd934d",
   "metadata": {},
   "outputs": [
    {
     "name": "stdout",
     "output_type": "stream",
     "text": [
      "전체 샘플수 : 98280\n"
     ]
    }
   ],
   "source": [
    "data.dropna(axis=0, inplace=True)\n",
    "print('전체 샘플수 :', (len(data)))"
   ]
  },
  {
   "cell_type": "code",
   "execution_count": 24,
   "id": "60130f0e",
   "metadata": {},
   "outputs": [
    {
     "name": "stdout",
     "output_type": "stream",
     "text": [
      "텍스트의 최소 길이 : 1\n",
      "텍스트의 최대 길이 : 60\n",
      "텍스트의 평균 길이 : 35.10031542531542\n",
      "텍스트의 길이 표준편차 : 3.7996770504942465\n",
      "요약의 최소 길이 : 1\n",
      "요약의 최대 길이 : 16\n",
      "요약의 평균 길이 : 9.2995115995116\n",
      "요약의 길이 표준편차 : 1.3899882458253108\n"
     ]
    },
    {
     "data": {
      "image/png": "[encoded data removed]",
      "text/plain": [
       "<Figure size 432x288 with 2 Axes>"
      ]
     },
     "metadata": {
      "needs_background": "light"
     },
     "output_type": "display_data"
    },
    {
     "data": {
      "image/png": "[encoded data removed]",
      "text/plain": [
       "<Figure size 432x288 with 1 Axes>"
      ]
     },
     "metadata": {
      "needs_background": "light"
     },
     "output_type": "display_data"
    },
    {
     "data": {
      "image/png": "[encoded data removed]",
      "text/plain": [
       "<Figure size 432x288 with 1 Axes>"
      ]
     },
     "metadata": {
      "needs_background": "light"
     },
     "output_type": "display_data"
    }
   ],
   "source": [
    "# 길이 분포 출력\n",
    "import matplotlib.pyplot as plt\n",
    "\n",
    "text_len = [len(s.split()) for s in data['Text']]\n",
    "summary_len = [len(s.split()) for s in data['Summary']]\n",
    "\n",
    "print('텍스트의 최소 길이 : {}'.format(np.min(text_len)))\n",
    "print('텍스트의 최대 길이 : {}'.format(np.max(text_len)))\n",
    "print('텍스트의 평균 길이 : {}'.format(np.mean(text_len)))\n",
    "print('텍스트의 길이 표준편차 : {}'.format(np.std(text_len)))\n",
    "\n",
    "print('요약의 최소 길이 : {}'.format(np.min(summary_len)))\n",
    "print('요약의 최대 길이 : {}'.format(np.max(summary_len)))\n",
    "print('요약의 평균 길이 : {}'.format(np.mean(summary_len)))\n",
    "print('요약의 길이 표준편차 : {}'.format(np.std(summary_len)))\n",
    "\n",
    "plt.subplot(1,2,1)\n",
    "plt.boxplot(text_len)\n",
    "plt.title('Text')\n",
    "plt.subplot(1,2,2)\n",
    "plt.boxplot(summary_len)\n",
    "plt.title('Summary')\n",
    "plt.tight_layout()\n",
    "plt.show()\n",
    "\n",
    "plt.title('Text')\n",
    "plt.hist(text_len, bins = 40)\n",
    "plt.xlabel('length of samples')\n",
    "plt.ylabel('number of samples')\n",
    "plt.show()\n",
    "\n",
    "plt.title('Summary')\n",
    "plt.hist(summary_len, bins = 40)\n",
    "plt.xlabel('length of samples')\n",
    "plt.ylabel('number of samples')\n",
    "plt.show()"
   ]
  },
  {
   "cell_type": "code",
   "execution_count": 25,
   "id": "b0a11cc4",
   "metadata": {},
   "outputs": [
    {
     "name": "stdout",
     "output_type": "stream",
     "text": [
      "45 13\n"
     ]
    }
   ],
   "source": [
    "import math\n",
    "text_max_len = math.ceil(np.mean(text_len)+2.5*np.std(text_len))\n",
    "summary_max_len = math.ceil(np.mean(summary_len)+2.5*np.std(summary_len))\n",
    "print(text_max_len, summary_max_len)"
   ]
  },
  {
   "cell_type": "code",
   "execution_count": 26,
   "id": "21564072",
   "metadata": {},
   "outputs": [],
   "source": [
    "def below_threshold_len(max_len, nested_list):\n",
    "    cnt = 0\n",
    "    for s in nested_list:\n",
    "        if(len(s.split()) <= max_len):\n",
    "            cnt = cnt + 1\n",
    "    print('전체 샘플 중 길이가 %s 이하인 샘플의 비율: %s'%(max_len, (cnt / len(nested_list))))"
   ]
  },
  {
   "cell_type": "code",
   "execution_count": 27,
   "id": "e1c68629",
   "metadata": {},
   "outputs": [
    {
     "name": "stdout",
     "output_type": "stream",
     "text": [
      "전체 샘플 중 길이가 45 이하인 샘플의 비율: 0.9967745217745217\n",
      "전체 샘플 중 길이가 13 이하인 샘플의 비율: 0.9981684981684982\n"
     ]
    }
   ],
   "source": [
    "below_threshold_len(text_max_len, data['Text'])\n",
    "below_threshold_len(summary_max_len,  data['Summary'])"
   ]
  },
  {
   "cell_type": "code",
   "execution_count": 28,
   "id": "01804464",
   "metadata": {},
   "outputs": [],
   "source": [
    "import copy\n",
    "data_copy = copy.deepcopy(data)"
   ]
  },
  {
   "cell_type": "code",
   "execution_count": 29,
   "id": "c538a6e4",
   "metadata": {},
   "outputs": [
    {
     "data": {
      "text/html": [
       "<div>\n",
       "<style scoped>\n",
       "    .dataframe tbody tr th:only-of-type {\n",
       "        vertical-align: middle;\n",
       "    }\n",
       "\n",
       "    .dataframe tbody tr th {\n",
       "        vertical-align: top;\n",
       "    }\n",
       "\n",
       "    .dataframe thead th {\n",
       "        text-align: right;\n",
       "    }\n",
       "</style>\n",
       "<table border=\"1\" class=\"dataframe\">\n",
       "  <thead>\n",
       "    <tr style=\"text-align: right;\">\n",
       "      <th></th>\n",
       "      <th>Text</th>\n",
       "      <th>Summary</th>\n",
       "    </tr>\n",
       "  </thead>\n",
       "  <tbody>\n",
       "    <tr>\n",
       "      <th>0</th>\n",
       "      <td>saurav kant alumnus upgrad iiit pg program mac...</td>\n",
       "      <td>upgrad learner switches to career in ml al wit...</td>\n",
       "    </tr>\n",
       "    <tr>\n",
       "      <th>1</th>\n",
       "      <td>kunal shah credit card bill payment platform c...</td>\n",
       "      <td>delhi techie wins free food from swiggy for on...</td>\n",
       "    </tr>\n",
       "    <tr>\n",
       "      <th>2</th>\n",
       "      <td>new zealand defeated india wickets fourth odi ...</td>\n",
       "      <td>new zealand end rohit sharma led india match w...</td>\n",
       "    </tr>\n",
       "    <tr>\n",
       "      <th>3</th>\n",
       "      <td>aegon life iterm insurance plan customers enjo...</td>\n",
       "      <td>aegon life iterm insurance plan helps customer...</td>\n",
       "    </tr>\n",
       "    <tr>\n",
       "      <th>4</th>\n",
       "      <td>speaking sexual harassment allegations rajkuma...</td>\n",
       "      <td>have known hirani for yrs what if metoo claims...</td>\n",
       "    </tr>\n",
       "    <tr>\n",
       "      <th>...</th>\n",
       "      <td>...</td>\n",
       "      <td>...</td>\n",
       "    </tr>\n",
       "    <tr>\n",
       "      <th>98396</th>\n",
       "      <td>crpf jawan tuesday axed death sharp edged weap...</td>\n",
       "      <td>crpf jawan axed to death by maoists in chhatti...</td>\n",
       "    </tr>\n",
       "    <tr>\n",
       "      <th>98397</th>\n",
       "      <td>uff yeh first song sonakshi sinha starrer upco...</td>\n",
       "      <td>first song from sonakshi sinha noor titled uff...</td>\n",
       "    </tr>\n",
       "    <tr>\n",
       "      <th>98398</th>\n",
       "      <td>according reports new version science fiction ...</td>\n",
       "      <td>the matrix film to get reboot reports</td>\n",
       "    </tr>\n",
       "    <tr>\n",
       "      <th>98399</th>\n",
       "      <td>new music video shows rapper snoop dogg aiming...</td>\n",
       "      <td>snoop dogg aims gun at clown dressed as trump ...</td>\n",
       "    </tr>\n",
       "    <tr>\n",
       "      <th>98400</th>\n",
       "      <td>madhesi morcha alliance seven political partie...</td>\n",
       "      <td>madhesi morcha withdraws support to nepalese g...</td>\n",
       "    </tr>\n",
       "  </tbody>\n",
       "</table>\n",
       "<p>98280 rows × 2 columns</p>\n",
       "</div>"
      ],
      "text/plain": [
       "                                                    Text  \\\n",
       "0      saurav kant alumnus upgrad iiit pg program mac...   \n",
       "1      kunal shah credit card bill payment platform c...   \n",
       "2      new zealand defeated india wickets fourth odi ...   \n",
       "3      aegon life iterm insurance plan customers enjo...   \n",
       "4      speaking sexual harassment allegations rajkuma...   \n",
       "...                                                  ...   \n",
       "98396  crpf jawan tuesday axed death sharp edged weap...   \n",
       "98397  uff yeh first song sonakshi sinha starrer upco...   \n",
       "98398  according reports new version science fiction ...   \n",
       "98399  new music video shows rapper snoop dogg aiming...   \n",
       "98400  madhesi morcha alliance seven political partie...   \n",
       "\n",
       "                                                 Summary  \n",
       "0      upgrad learner switches to career in ml al wit...  \n",
       "1      delhi techie wins free food from swiggy for on...  \n",
       "2      new zealand end rohit sharma led india match w...  \n",
       "3      aegon life iterm insurance plan helps customer...  \n",
       "4      have known hirani for yrs what if metoo claims...  \n",
       "...                                                  ...  \n",
       "98396  crpf jawan axed to death by maoists in chhatti...  \n",
       "98397  first song from sonakshi sinha noor titled uff...  \n",
       "98398              the matrix film to get reboot reports  \n",
       "98399  snoop dogg aims gun at clown dressed as trump ...  \n",
       "98400  madhesi morcha withdraws support to nepalese g...  \n",
       "\n",
       "[98280 rows x 2 columns]"
      ]
     },
     "metadata": {},
     "output_type": "display_data"
    }
   ],
   "source": [
    "display(data_copy)"
   ]
  },
  {
   "cell_type": "code",
   "execution_count": 32,
   "id": "da84fc2c",
   "metadata": {},
   "outputs": [
    {
     "data": {
      "text/html": [
       "<div>\n",
       "<style scoped>\n",
       "    .dataframe tbody tr th:only-of-type {\n",
       "        vertical-align: middle;\n",
       "    }\n",
       "\n",
       "    .dataframe tbody tr th {\n",
       "        vertical-align: top;\n",
       "    }\n",
       "\n",
       "    .dataframe thead th {\n",
       "        text-align: right;\n",
       "    }\n",
       "</style>\n",
       "<table border=\"1\" class=\"dataframe\">\n",
       "  <thead>\n",
       "    <tr style=\"text-align: right;\">\n",
       "      <th></th>\n",
       "      <th>Text</th>\n",
       "      <th>Summary</th>\n",
       "    </tr>\n",
       "  </thead>\n",
       "  <tbody>\n",
       "    <tr>\n",
       "      <th>0</th>\n",
       "      <td>saurav kant alumnus upgrad iiit pg program mac...</td>\n",
       "      <td>upgrad learner switches to career in ml al wit...</td>\n",
       "    </tr>\n",
       "    <tr>\n",
       "      <th>1</th>\n",
       "      <td>kunal shah credit card bill payment platform c...</td>\n",
       "      <td>delhi techie wins free food from swiggy for on...</td>\n",
       "    </tr>\n",
       "    <tr>\n",
       "      <th>2</th>\n",
       "      <td>new zealand defeated india wickets fourth odi ...</td>\n",
       "      <td>new zealand end rohit sharma led india match w...</td>\n",
       "    </tr>\n",
       "    <tr>\n",
       "      <th>3</th>\n",
       "      <td>aegon life iterm insurance plan customers enjo...</td>\n",
       "      <td>aegon life iterm insurance plan helps customer...</td>\n",
       "    </tr>\n",
       "    <tr>\n",
       "      <th>4</th>\n",
       "      <td>speaking sexual harassment allegations rajkuma...</td>\n",
       "      <td>have known hirani for yrs what if metoo claims...</td>\n",
       "    </tr>\n",
       "  </tbody>\n",
       "</table>\n",
       "</div>"
      ],
      "text/plain": [
       "                                                Text  \\\n",
       "0  saurav kant alumnus upgrad iiit pg program mac...   \n",
       "1  kunal shah credit card bill payment platform c...   \n",
       "2  new zealand defeated india wickets fourth odi ...   \n",
       "3  aegon life iterm insurance plan customers enjo...   \n",
       "4  speaking sexual harassment allegations rajkuma...   \n",
       "\n",
       "                                             Summary  \n",
       "0  upgrad learner switches to career in ml al wit...  \n",
       "1  delhi techie wins free food from swiggy for on...  \n",
       "2  new zealand end rohit sharma led india match w...  \n",
       "3  aegon life iterm insurance plan helps customer...  \n",
       "4  have known hirani for yrs what if metoo claims...  "
      ]
     },
     "metadata": {},
     "output_type": "display_data"
    },
    {
     "data": {
      "text/plain": [
       "0     True\n",
       "1    False\n",
       "2     True\n",
       "3     True\n",
       "4    False\n",
       "dtype: bool"
      ]
     },
     "metadata": {},
     "output_type": "display_data"
    },
    {
     "data": {
      "text/html": [
       "<div>\n",
       "<style scoped>\n",
       "    .dataframe tbody tr th:only-of-type {\n",
       "        vertical-align: middle;\n",
       "    }\n",
       "\n",
       "    .dataframe tbody tr th {\n",
       "        vertical-align: top;\n",
       "    }\n",
       "\n",
       "    .dataframe thead th {\n",
       "        text-align: right;\n",
       "    }\n",
       "</style>\n",
       "<table border=\"1\" class=\"dataframe\">\n",
       "  <thead>\n",
       "    <tr style=\"text-align: right;\">\n",
       "      <th></th>\n",
       "      <th>Text</th>\n",
       "      <th>Summary</th>\n",
       "    </tr>\n",
       "  </thead>\n",
       "  <tbody>\n",
       "    <tr>\n",
       "      <th>0</th>\n",
       "      <td>saurav kant alumnus upgrad iiit pg program mac...</td>\n",
       "      <td>upgrad learner switches to career in ml al wit...</td>\n",
       "    </tr>\n",
       "    <tr>\n",
       "      <th>2</th>\n",
       "      <td>new zealand defeated india wickets fourth odi ...</td>\n",
       "      <td>new zealand end rohit sharma led india match w...</td>\n",
       "    </tr>\n",
       "    <tr>\n",
       "      <th>3</th>\n",
       "      <td>aegon life iterm insurance plan customers enjo...</td>\n",
       "      <td>aegon life iterm insurance plan helps customer...</td>\n",
       "    </tr>\n",
       "  </tbody>\n",
       "</table>\n",
       "</div>"
      ],
      "text/plain": [
       "                                                Text  \\\n",
       "0  saurav kant alumnus upgrad iiit pg program mac...   \n",
       "2  new zealand defeated india wickets fourth odi ...   \n",
       "3  aegon life iterm insurance plan customers enjo...   \n",
       "\n",
       "                                             Summary  \n",
       "0  upgrad learner switches to career in ml al wit...  \n",
       "2  new zealand end rohit sharma led india match w...  \n",
       "3  aegon life iterm insurance plan helps customer...  "
      ]
     },
     "metadata": {},
     "output_type": "display_data"
    },
    {
     "name": "stdout",
     "output_type": "stream",
     "text": [
      "샘플수 : 3\n"
     ]
    }
   ],
   "source": [
    "data_head = copy.deepcopy(data_copy.head())\n",
    "display(data_head)\n",
    "data_condition = data_head.apply(lambda row:(len(row['Text'].split())<=40) and (len(row['Summary'].split())<=12), axis=1)\n",
    "display(data_condition)\n",
    "data_head = data_head[data_condition]\n",
    "display(data_head)\n",
    "\n",
    "print('샘플수 :', (len(data_head)))"
   ]
  },
  {
   "cell_type": "code",
   "execution_count": 33,
   "id": "0b99d81d",
   "metadata": {},
   "outputs": [
    {
     "data": {
      "text/plain": [
       "0        True\n",
       "1        True\n",
       "2        True\n",
       "3        True\n",
       "4        True\n",
       "         ... \n",
       "98396    True\n",
       "98397    True\n",
       "98398    True\n",
       "98399    True\n",
       "98400    True\n",
       "Length: 98280, dtype: bool"
      ]
     },
     "metadata": {},
     "output_type": "display_data"
    },
    {
     "data": {
      "text/html": [
       "<div>\n",
       "<style scoped>\n",
       "    .dataframe tbody tr th:only-of-type {\n",
       "        vertical-align: middle;\n",
       "    }\n",
       "\n",
       "    .dataframe tbody tr th {\n",
       "        vertical-align: top;\n",
       "    }\n",
       "\n",
       "    .dataframe thead th {\n",
       "        text-align: right;\n",
       "    }\n",
       "</style>\n",
       "<table border=\"1\" class=\"dataframe\">\n",
       "  <thead>\n",
       "    <tr style=\"text-align: right;\">\n",
       "      <th></th>\n",
       "      <th>Text</th>\n",
       "      <th>Summary</th>\n",
       "    </tr>\n",
       "  </thead>\n",
       "  <tbody>\n",
       "    <tr>\n",
       "      <th>0</th>\n",
       "      <td>saurav kant alumnus upgrad iiit pg program mac...</td>\n",
       "      <td>upgrad learner switches to career in ml al wit...</td>\n",
       "    </tr>\n",
       "    <tr>\n",
       "      <th>1</th>\n",
       "      <td>kunal shah credit card bill payment platform c...</td>\n",
       "      <td>delhi techie wins free food from swiggy for on...</td>\n",
       "    </tr>\n",
       "    <tr>\n",
       "      <th>2</th>\n",
       "      <td>new zealand defeated india wickets fourth odi ...</td>\n",
       "      <td>new zealand end rohit sharma led india match w...</td>\n",
       "    </tr>\n",
       "    <tr>\n",
       "      <th>3</th>\n",
       "      <td>aegon life iterm insurance plan customers enjo...</td>\n",
       "      <td>aegon life iterm insurance plan helps customer...</td>\n",
       "    </tr>\n",
       "    <tr>\n",
       "      <th>4</th>\n",
       "      <td>speaking sexual harassment allegations rajkuma...</td>\n",
       "      <td>have known hirani for yrs what if metoo claims...</td>\n",
       "    </tr>\n",
       "    <tr>\n",
       "      <th>...</th>\n",
       "      <td>...</td>\n",
       "      <td>...</td>\n",
       "    </tr>\n",
       "    <tr>\n",
       "      <th>98396</th>\n",
       "      <td>crpf jawan tuesday axed death sharp edged weap...</td>\n",
       "      <td>crpf jawan axed to death by maoists in chhatti...</td>\n",
       "    </tr>\n",
       "    <tr>\n",
       "      <th>98397</th>\n",
       "      <td>uff yeh first song sonakshi sinha starrer upco...</td>\n",
       "      <td>first song from sonakshi sinha noor titled uff...</td>\n",
       "    </tr>\n",
       "    <tr>\n",
       "      <th>98398</th>\n",
       "      <td>according reports new version science fiction ...</td>\n",
       "      <td>the matrix film to get reboot reports</td>\n",
       "    </tr>\n",
       "    <tr>\n",
       "      <th>98399</th>\n",
       "      <td>new music video shows rapper snoop dogg aiming...</td>\n",
       "      <td>snoop dogg aims gun at clown dressed as trump ...</td>\n",
       "    </tr>\n",
       "    <tr>\n",
       "      <th>98400</th>\n",
       "      <td>madhesi morcha alliance seven political partie...</td>\n",
       "      <td>madhesi morcha withdraws support to nepalese g...</td>\n",
       "    </tr>\n",
       "  </tbody>\n",
       "</table>\n",
       "<p>97783 rows × 2 columns</p>\n",
       "</div>"
      ],
      "text/plain": [
       "                                                    Text  \\\n",
       "0      saurav kant alumnus upgrad iiit pg program mac...   \n",
       "1      kunal shah credit card bill payment platform c...   \n",
       "2      new zealand defeated india wickets fourth odi ...   \n",
       "3      aegon life iterm insurance plan customers enjo...   \n",
       "4      speaking sexual harassment allegations rajkuma...   \n",
       "...                                                  ...   \n",
       "98396  crpf jawan tuesday axed death sharp edged weap...   \n",
       "98397  uff yeh first song sonakshi sinha starrer upco...   \n",
       "98398  according reports new version science fiction ...   \n",
       "98399  new music video shows rapper snoop dogg aiming...   \n",
       "98400  madhesi morcha alliance seven political partie...   \n",
       "\n",
       "                                                 Summary  \n",
       "0      upgrad learner switches to career in ml al wit...  \n",
       "1      delhi techie wins free food from swiggy for on...  \n",
       "2      new zealand end rohit sharma led india match w...  \n",
       "3      aegon life iterm insurance plan helps customer...  \n",
       "4      have known hirani for yrs what if metoo claims...  \n",
       "...                                                  ...  \n",
       "98396  crpf jawan axed to death by maoists in chhatti...  \n",
       "98397  first song from sonakshi sinha noor titled uff...  \n",
       "98398              the matrix film to get reboot reports  \n",
       "98399  snoop dogg aims gun at clown dressed as trump ...  \n",
       "98400  madhesi morcha withdraws support to nepalese g...  \n",
       "\n",
       "[97783 rows x 2 columns]"
      ]
     },
     "metadata": {},
     "output_type": "display_data"
    },
    {
     "name": "stdout",
     "output_type": "stream",
     "text": [
      "샘플수 : 97783\n"
     ]
    }
   ],
   "source": [
    "data_condition = data.apply(lambda row:(len(row['Text'].split())<=text_max_len) and (len(row['Summary'].split())<=summary_max_len), axis=1)\n",
    "display(data_condition)\n",
    "data = data[data_condition]\n",
    "display(data)\n",
    "\n",
    "print('샘플수 :', (len(data)))"
   ]
  },
  {
   "cell_type": "code",
   "execution_count": 34,
   "id": "8cc26c80",
   "metadata": {},
   "outputs": [
    {
     "data": {
      "text/html": [
       "<div>\n",
       "<style scoped>\n",
       "    .dataframe tbody tr th:only-of-type {\n",
       "        vertical-align: middle;\n",
       "    }\n",
       "\n",
       "    .dataframe tbody tr th {\n",
       "        vertical-align: top;\n",
       "    }\n",
       "\n",
       "    .dataframe thead th {\n",
       "        text-align: right;\n",
       "    }\n",
       "</style>\n",
       "<table border=\"1\" class=\"dataframe\">\n",
       "  <thead>\n",
       "    <tr style=\"text-align: right;\">\n",
       "      <th></th>\n",
       "      <th>Text</th>\n",
       "      <th>Summary</th>\n",
       "      <th>decoder_input</th>\n",
       "      <th>decoder_target</th>\n",
       "    </tr>\n",
       "  </thead>\n",
       "  <tbody>\n",
       "    <tr>\n",
       "      <th>0</th>\n",
       "      <td>saurav kant alumnus upgrad iiit pg program mac...</td>\n",
       "      <td>upgrad learner switches to career in ml al wit...</td>\n",
       "      <td>sostoken upgrad learner switches to career in ...</td>\n",
       "      <td>upgrad learner switches to career in ml al wit...</td>\n",
       "    </tr>\n",
       "    <tr>\n",
       "      <th>1</th>\n",
       "      <td>kunal shah credit card bill payment platform c...</td>\n",
       "      <td>delhi techie wins free food from swiggy for on...</td>\n",
       "      <td>sostoken delhi techie wins free food from swig...</td>\n",
       "      <td>delhi techie wins free food from swiggy for on...</td>\n",
       "    </tr>\n",
       "    <tr>\n",
       "      <th>2</th>\n",
       "      <td>new zealand defeated india wickets fourth odi ...</td>\n",
       "      <td>new zealand end rohit sharma led india match w...</td>\n",
       "      <td>sostoken new zealand end rohit sharma led indi...</td>\n",
       "      <td>new zealand end rohit sharma led india match w...</td>\n",
       "    </tr>\n",
       "    <tr>\n",
       "      <th>3</th>\n",
       "      <td>aegon life iterm insurance plan customers enjo...</td>\n",
       "      <td>aegon life iterm insurance plan helps customer...</td>\n",
       "      <td>sostoken aegon life iterm insurance plan helps...</td>\n",
       "      <td>aegon life iterm insurance plan helps customer...</td>\n",
       "    </tr>\n",
       "    <tr>\n",
       "      <th>4</th>\n",
       "      <td>speaking sexual harassment allegations rajkuma...</td>\n",
       "      <td>have known hirani for yrs what if metoo claims...</td>\n",
       "      <td>sostoken have known hirani for yrs what if met...</td>\n",
       "      <td>have known hirani for yrs what if metoo claims...</td>\n",
       "    </tr>\n",
       "  </tbody>\n",
       "</table>\n",
       "</div>"
      ],
      "text/plain": [
       "                                                Text  \\\n",
       "0  saurav kant alumnus upgrad iiit pg program mac...   \n",
       "1  kunal shah credit card bill payment platform c...   \n",
       "2  new zealand defeated india wickets fourth odi ...   \n",
       "3  aegon life iterm insurance plan customers enjo...   \n",
       "4  speaking sexual harassment allegations rajkuma...   \n",
       "\n",
       "                                             Summary  \\\n",
       "0  upgrad learner switches to career in ml al wit...   \n",
       "1  delhi techie wins free food from swiggy for on...   \n",
       "2  new zealand end rohit sharma led india match w...   \n",
       "3  aegon life iterm insurance plan helps customer...   \n",
       "4  have known hirani for yrs what if metoo claims...   \n",
       "\n",
       "                                       decoder_input  \\\n",
       "0  sostoken upgrad learner switches to career in ...   \n",
       "1  sostoken delhi techie wins free food from swig...   \n",
       "2  sostoken new zealand end rohit sharma led indi...   \n",
       "3  sostoken aegon life iterm insurance plan helps...   \n",
       "4  sostoken have known hirani for yrs what if met...   \n",
       "\n",
       "                                      decoder_target  \n",
       "0  upgrad learner switches to career in ml al wit...  \n",
       "1  delhi techie wins free food from swiggy for on...  \n",
       "2  new zealand end rohit sharma led india match w...  \n",
       "3  aegon life iterm insurance plan helps customer...  \n",
       "4  have known hirani for yrs what if metoo claims...  "
      ]
     },
     "execution_count": 34,
     "metadata": {},
     "output_type": "execute_result"
    }
   ],
   "source": [
    "# 요약 데이터에는 시작 토큰과 종료 토큰을 추가한다.\n",
    "data['decoder_input'] = data['Summary'].apply(lambda x : 'sostoken '+ x)\n",
    "data['decoder_target'] = data['Summary'].apply(lambda x : x + ' eostoken')\n",
    "data.head()"
   ]
  },
  {
   "cell_type": "code",
   "execution_count": 57,
   "id": "976ee3cc",
   "metadata": {},
   "outputs": [],
   "source": [
    "encoder_input = np.array(data['Text']) # 인코더의 입력\n",
    "decoder_input = np.array(data['decoder_input']) # 디코더의 입력\n",
    "decoder_target = np.array(data['decoder_target']) # 디코더의 레이블"
   ]
  },
  {
   "cell_type": "code",
   "execution_count": 58,
   "id": "6f6b2ef2",
   "metadata": {},
   "outputs": [
    {
     "name": "stdout",
     "output_type": "stream",
     "text": [
      "[94106 60619 30788 ... 11670 64752 64618]\n"
     ]
    }
   ],
   "source": [
    "# shuffle\n",
    "indices = np.arange(encoder_input.shape[0])\n",
    "np.random.shuffle(indices)\n",
    "print(indices)"
   ]
  },
  {
   "cell_type": "code",
   "execution_count": 59,
   "id": "e65a3d5a",
   "metadata": {},
   "outputs": [],
   "source": [
    "encoder_input = encoder_input[indices]\n",
    "decoder_input = decoder_input[indices]\n",
    "decoder_target = decoder_target[indices]"
   ]
  },
  {
   "cell_type": "code",
   "execution_count": 60,
   "id": "22858cee",
   "metadata": {},
   "outputs": [
    {
     "name": "stdout",
     "output_type": "stream",
     "text": [
      "테스트 데이터의 수 : 19556\n"
     ]
    }
   ],
   "source": [
    "n_of_val = int(len(encoder_input)*0.2)\n",
    "print('테스트 데이터의 수 :', n_of_val)"
   ]
  },
  {
   "cell_type": "code",
   "execution_count": 61,
   "id": "c87f1b14",
   "metadata": {},
   "outputs": [
    {
     "name": "stdout",
     "output_type": "stream",
     "text": [
      "훈련 데이터의 개수 : 78227\n",
      "훈련 레이블의 개수 : 78227\n",
      "테스트 데이터의 개수 : 19556\n",
      "테스트 레이블의 개수 : 19556\n"
     ]
    }
   ],
   "source": [
    "encoder_input_train = encoder_input[:-n_of_val]\n",
    "decoder_input_train = decoder_input[:-n_of_val]\n",
    "decoder_target_train = decoder_target[:-n_of_val]\n",
    "\n",
    "encoder_input_test = encoder_input[-n_of_val:]\n",
    "decoder_input_test = decoder_input[-n_of_val:]\n",
    "decoder_target_test = decoder_target[-n_of_val:]\n",
    "\n",
    "print('훈련 데이터의 개수 :', len(encoder_input_train))\n",
    "print('훈련 레이블의 개수 :', len(decoder_input_train))\n",
    "print('테스트 데이터의 개수 :', len(encoder_input_test))\n",
    "print('테스트 레이블의 개수 :', len(decoder_input_test))"
   ]
  },
  {
   "cell_type": "code",
   "execution_count": 62,
   "id": "f9e0add9",
   "metadata": {},
   "outputs": [],
   "source": [
    "# 데이터의 vocabulary\n",
    "src_tokenizer = Tokenizer() # 토크나이저 정의\n",
    "src_tokenizer.fit_on_texts(encoder_input_train) # 입력된 데이터로부터 단어 집합 생성"
   ]
  },
  {
   "cell_type": "code",
   "execution_count": 63,
   "id": "92d7026b",
   "metadata": {},
   "outputs": [
    {
     "name": "stdout",
     "output_type": "stream",
     "text": [
      "단어 집합(vocabulary)의 크기 : 69498\n",
      "등장 빈도가 7번 이하인 희귀 단어의 수: 48892\n",
      "단어 집합에서 희귀 단어를 제외시킬 경우의 단어 집합의 크기 20606\n",
      "단어 집합에서 희귀 단어의 비율: 70.35022590578146\n",
      "전체 등장 빈도에서 희귀 단어 등장 빈도 비율: 3.8882907962474373\n"
     ]
    }
   ],
   "source": [
    "threshold = 8\n",
    "total_cnt = len(src_tokenizer.word_index) # 단어의 수\n",
    "rare_cnt = 0 # 등장 빈도수가 threshold보다 작은 단어의 개수를 카운트\n",
    "total_freq = 0 # 훈련 데이터의 전체 단어 빈도수 총 합\n",
    "rare_freq = 0 # 등장 빈도수가 threshold보다 작은 단어의 등장 빈도수의 총 합\n",
    "\n",
    "# 단어와 빈도수의 쌍(pair)을 key와 value로 받는다.\n",
    "for key, value in src_tokenizer.word_counts.items():\n",
    "    total_freq = total_freq + value\n",
    "\n",
    "    # 단어의 등장 빈도수가 threshold보다 작으면\n",
    "    if(value < threshold):\n",
    "        rare_cnt = rare_cnt + 1\n",
    "        rare_freq = rare_freq + value\n",
    "\n",
    "print('단어 집합(vocabulary)의 크기 :', total_cnt)\n",
    "print('등장 빈도가 %s번 이하인 희귀 단어의 수: %s'%(threshold - 1, rare_cnt))\n",
    "print('단어 집합에서 희귀 단어를 제외시킬 경우의 단어 집합의 크기 %s'%(total_cnt - rare_cnt))\n",
    "print(\"단어 집합에서 희귀 단어의 비율:\", (rare_cnt / total_cnt)*100)\n",
    "print(\"전체 등장 빈도에서 희귀 단어 등장 빈도 비율:\", (rare_freq / total_freq)*100)"
   ]
  },
  {
   "cell_type": "code",
   "execution_count": 64,
   "id": "be89373e",
   "metadata": {},
   "outputs": [],
   "source": [
    "src_vocab = 20000\n",
    "src_tokenizer = Tokenizer(num_words=src_vocab) # 단어 집합의 크기를 20,000으로 제한\n",
    "src_tokenizer.fit_on_texts(encoder_input_train) # 단어 집합 재생성"
   ]
  },
  {
   "cell_type": "code",
   "execution_count": 65,
   "id": "86c26ca1",
   "metadata": {},
   "outputs": [
    {
     "name": "stdout",
     "output_type": "stream",
     "text": [
      "[[3199, 73, 1, 1606, 3991, 17, 6386, 1813, 50, 2792, 2268, 836, 699, 297, 5266, 5970, 1423, 326, 438, 1, 3199, 176, 699, 729, 2792, 172, 4328, 1646, 218, 1813, 50, 22, 1424, 1024], [1904, 195, 286, 1102, 4435, 1209, 2, 10424, 390, 373, 54, 117, 144, 787, 1417, 4401, 589, 511, 11824, 5741, 1904, 3088, 3, 3, 148, 4, 4435, 218, 1209, 390, 1904, 89, 390, 373], [1123, 3068, 192, 1924, 2360, 780, 9, 10932, 77, 8958, 17408, 275, 8958, 284, 118, 1825, 15305, 2124, 308, 8958, 19388, 205, 8525, 1123, 1, 29, 180, 1123, 298, 2125, 13769, 332, 7, 413, 11499, 837, 2530]]\n"
     ]
    }
   ],
   "source": [
    "# 텍스트 시퀀스를 정수 시퀀스로 변환\n",
    "encoder_input_train = src_tokenizer.texts_to_sequences(encoder_input_train) \n",
    "encoder_input_test = src_tokenizer.texts_to_sequences(encoder_input_test)\n",
    "\n",
    "# 잘 진행되었는지 샘플 출력\n",
    "print(encoder_input_train[:3])"
   ]
  },
  {
   "cell_type": "code",
   "execution_count": 66,
   "id": "b31142de",
   "metadata": {},
   "outputs": [],
   "source": [
    "tar_tokenizer = Tokenizer()\n",
    "tar_tokenizer.fit_on_texts(decoder_input_train)"
   ]
  },
  {
   "cell_type": "code",
   "execution_count": 67,
   "id": "5f650415",
   "metadata": {},
   "outputs": [
    {
     "name": "stdout",
     "output_type": "stream",
     "text": [
      "단어 집합(vocabulary)의 크기 : 30047\n",
      "등장 빈도가 5번 이하인 희귀 단어의 수: 19643\n",
      "단어 집합에서 희귀 단어를 제외시킬 경우의 단어 집합의 크기 10404\n",
      "단어 집합에서 희귀 단어의 비율: 65.37424701301295\n",
      "전체 등장 빈도에서 희귀 단어 등장 빈도 비율: 4.653035258098826\n"
     ]
    }
   ],
   "source": [
    "threshold = 6\n",
    "total_cnt = len(tar_tokenizer.word_index) # 단어의 수\n",
    "rare_cnt = 0 # 등장 빈도수가 threshold보다 작은 단어의 개수를 카운트\n",
    "total_freq = 0 # 훈련 데이터의 전체 단어 빈도수 총 합\n",
    "rare_freq = 0 # 등장 빈도수가 threshold보다 작은 단어의 등장 빈도수의 총 합\n",
    "\n",
    "# 단어와 빈도수의 쌍(pair)을 key와 value로 받는다.\n",
    "for key, value in tar_tokenizer.word_counts.items():\n",
    "    total_freq = total_freq + value\n",
    "\n",
    "    # 단어의 등장 빈도수가 threshold보다 작으면\n",
    "    if(value < threshold):\n",
    "        rare_cnt = rare_cnt + 1\n",
    "        rare_freq = rare_freq + value\n",
    "\n",
    "print('단어 집합(vocabulary)의 크기 :', total_cnt)\n",
    "print('등장 빈도가 %s번 이하인 희귀 단어의 수: %s'%(threshold - 1, rare_cnt))\n",
    "print('단어 집합에서 희귀 단어를 제외시킬 경우의 단어 집합의 크기 %s'%(total_cnt - rare_cnt))\n",
    "print(\"단어 집합에서 희귀 단어의 비율:\", (rare_cnt / total_cnt)*100)\n",
    "print(\"전체 등장 빈도에서 희귀 단어 등장 빈도 비율:\", (rare_freq / total_freq)*100)"
   ]
  },
  {
   "cell_type": "code",
   "execution_count": 68,
   "id": "74555e0d",
   "metadata": {},
   "outputs": [
    {
     "name": "stdout",
     "output_type": "stream",
     "text": [
      "input\n",
      "input  [[1, 83, 2763, 24, 2276, 49, 4675, 3, 2764, 2669, 1556], [1, 1245, 240, 880, 4676, 1496, 4, 8], [1, 696, 3, 3254, 890, 1734, 3909, 4, 267], [1, 1077, 659, 5, 5881, 2619, 4, 430], [1, 498, 2765, 3, 976, 4162, 395, 12, 7656, 30, 1254, 3027]]\n",
      "target\n",
      "decoder  [[83, 2763, 24, 2276, 49, 4675, 3, 2764, 2669, 1556, 2], [1245, 240, 880, 4676, 1496, 4, 8, 2], [696, 3, 3254, 890, 1734, 3909, 4, 267, 2], [1077, 659, 5, 5881, 2619, 4, 430, 2], [498, 2765, 3, 976, 4162, 395, 12, 7656, 30, 1254, 3027, 2]]\n"
     ]
    }
   ],
   "source": [
    "tar_vocab = 10000\n",
    "tar_tokenizer = Tokenizer(num_words=tar_vocab) \n",
    "tar_tokenizer.fit_on_texts(decoder_input_train)\n",
    "tar_tokenizer.fit_on_texts(decoder_target_train)\n",
    "\n",
    "# 텍스트 시퀀스를 정수 시퀀스로 변환\n",
    "decoder_input_train = tar_tokenizer.texts_to_sequences(decoder_input_train) \n",
    "decoder_target_train = tar_tokenizer.texts_to_sequences(decoder_target_train)\n",
    "decoder_input_test = tar_tokenizer.texts_to_sequences(decoder_input_test)\n",
    "decoder_target_test = tar_tokenizer.texts_to_sequences(decoder_target_test)\n",
    "\n",
    "# 잘 변환되었는지 확인\n",
    "print('input')\n",
    "print('input ',decoder_input_train[:5])\n",
    "print('target')\n",
    "print('decoder ',decoder_target_train[:5])"
   ]
  },
  {
   "cell_type": "code",
   "execution_count": 69,
   "id": "c3b72d88",
   "metadata": {},
   "outputs": [
    {
     "name": "stdout",
     "output_type": "stream",
     "text": [
      "삭제할 훈련 데이터의 개수 : 0\n",
      "삭제할 테스트 데이터의 개수 : 0\n",
      "훈련 데이터의 개수 : 78227\n",
      "훈련 레이블의 개수 : 78227\n",
      "테스트 데이터의 개수 : 19556\n",
      "테스트 레이블의 개수 : 19556\n"
     ]
    }
   ],
   "source": [
    "drop_train = [index for index, sentence in enumerate(decoder_input_train) if len(sentence) == 1]\n",
    "drop_test = [index for index, sentence in enumerate(decoder_input_test) if len(sentence) == 1]\n",
    "\n",
    "print('삭제할 훈련 데이터의 개수 :', len(drop_train))\n",
    "print('삭제할 테스트 데이터의 개수 :', len(drop_test))\n",
    "\n",
    "encoder_input_train = [sentence for index, sentence in enumerate(encoder_input_train) if index not in drop_train]\n",
    "decoder_input_train = [sentence for index, sentence in enumerate(decoder_input_train) if index not in drop_train]\n",
    "decoder_target_train = [sentence for index, sentence in enumerate(decoder_target_train) if index not in drop_train]\n",
    "\n",
    "encoder_input_test = [sentence for index, sentence in enumerate(encoder_input_test) if index not in drop_test]\n",
    "decoder_input_test = [sentence for index, sentence in enumerate(decoder_input_test) if index not in drop_test]\n",
    "decoder_target_test = [sentence for index, sentence in enumerate(decoder_target_test) if index not in drop_test]\n",
    "\n",
    "print('훈련 데이터의 개수 :', len(encoder_input_train))\n",
    "print('훈련 레이블의 개수 :', len(decoder_input_train))\n",
    "print('테스트 데이터의 개수 :', len(encoder_input_test))\n",
    "print('테스트 레이블의 개수 :', len(decoder_input_test))"
   ]
  },
  {
   "cell_type": "code",
   "execution_count": 70,
   "id": "771b0b10",
   "metadata": {},
   "outputs": [],
   "source": [
    "encoder_input_train = pad_sequences(encoder_input_train, maxlen=text_max_len, padding='post')\n",
    "encoder_input_test = pad_sequences(encoder_input_test, maxlen=text_max_len, padding='post')\n",
    "decoder_input_train = pad_sequences(decoder_input_train, maxlen=summary_max_len, padding='post')\n",
    "decoder_target_train = pad_sequences(decoder_target_train, maxlen=summary_max_len, padding='post')\n",
    "decoder_input_test = pad_sequences(decoder_input_test, maxlen=summary_max_len, padding='post')\n",
    "decoder_target_test = pad_sequences(decoder_target_test, maxlen=summary_max_len, padding='post')"
   ]
  },
  {
   "cell_type": "markdown",
   "id": "989a9516",
   "metadata": {},
   "source": [
    "## 추상적 요약\n",
    "- LSTM 기반 seq-to-seq 모델\n",
    "- Attention seq-to-seq 모델"
   ]
  },
  {
   "cell_type": "code",
   "execution_count": 71,
   "id": "c3e093be",
   "metadata": {},
   "outputs": [],
   "source": [
    "from tensorflow.keras.layers import Input, LSTM, Embedding, Dense, Concatenate, TimeDistributed\n",
    "from tensorflow.keras.models import Model\n",
    "from tensorflow.keras.callbacks import EarlyStopping, ModelCheckpoint\n",
    "\n",
    "\n",
    "# 인코더 설계 시작\n",
    "embedding_dim = 100\n",
    "hidden_size = 256\n",
    "\n",
    "# 인코더\n",
    "encoder_inputs = Input(shape=(text_max_len,))\n",
    "\n",
    "# 인코더의 임베딩 층\n",
    "enc_emb = Embedding(src_vocab, embedding_dim)(encoder_inputs)\n",
    "\n",
    "# 인코더의 LSTM 1\n",
    "# encoder_lstm1 = LSTM(hidden_size, return_sequences=True, return_state=True ,dropout = 0.4, recurrent_dropout = 0.4)\n",
    "encoder_lstm1 = LSTM(hidden_size, return_sequences=True, return_state=True ,dropout = 0.4)\n",
    "encoder_output1, state_h1, state_c1 = encoder_lstm1(enc_emb)\n",
    "\n",
    "# 인코더의 LSTM 2\n",
    "encoder_lstm2 = LSTM(hidden_size, return_sequences=True, return_state=True ,dropout = 0.4)\n",
    "encoder_output2, state_h2, state_c2 = encoder_lstm2(encoder_output1)\n",
    "\n",
    "# 인코더의 LSTM 3\n",
    "encoder_lstm2 = LSTM(hidden_size, return_sequences=True, return_state=True ,dropout = 0.4)\n",
    "encoder_outputs, state_h, state_c = encoder_lstm2(encoder_output2)\n"
   ]
  },
  {
   "cell_type": "code",
   "execution_count": 72,
   "id": "cd17475b",
   "metadata": {},
   "outputs": [],
   "source": [
    "# 디코더 설계\n",
    "decoder_inputs = Input(shape=(None,))\n",
    "\n",
    "# 디코더의 임베딩 층\n",
    "dec_emb_layer = Embedding(tar_vocab, embedding_dim)\n",
    "dec_emb = dec_emb_layer(decoder_inputs)\n",
    "\n",
    "# 디코더의 LSTM\n",
    "# decoder_lstm = LSTM(hidden_size, return_sequences=True, return_state=True, dropout=0.4, recurrent_dropout=0.2)\n",
    "decoder_lstm = LSTM(hidden_size, return_sequences=True, return_state=True, dropout=0.4)\n",
    "decoder_outputs, _, _ = decoder_lstm(dec_emb, initial_state=[state_h, state_c])"
   ]
  },
  {
   "cell_type": "code",
   "execution_count": 73,
   "id": "06f01e8a",
   "metadata": {},
   "outputs": [
    {
     "name": "stdout",
     "output_type": "stream",
     "text": [
      "Model: \"model\"\n",
      "__________________________________________________________________________________________________\n",
      "Layer (type)                    Output Shape         Param #     Connected to                     \n",
      "==================================================================================================\n",
      "input_1 (InputLayer)            [(None, 45)]         0                                            \n",
      "__________________________________________________________________________________________________\n",
      "embedding (Embedding)           (None, 45, 100)      2000000     input_1[0][0]                    \n",
      "__________________________________________________________________________________________________\n",
      "lstm (LSTM)                     [(None, 45, 256), (N 365568      embedding[0][0]                  \n",
      "__________________________________________________________________________________________________\n",
      "input_2 (InputLayer)            [(None, None)]       0                                            \n",
      "__________________________________________________________________________________________________\n",
      "lstm_1 (LSTM)                   [(None, 45, 256), (N 525312      lstm[0][0]                       \n",
      "__________________________________________________________________________________________________\n",
      "embedding_1 (Embedding)         (None, None, 100)    1000000     input_2[0][0]                    \n",
      "__________________________________________________________________________________________________\n",
      "lstm_2 (LSTM)                   [(None, 45, 256), (N 525312      lstm_1[0][0]                     \n",
      "__________________________________________________________________________________________________\n",
      "lstm_3 (LSTM)                   [(None, None, 256),  365568      embedding_1[0][0]                \n",
      "                                                                 lstm_2[0][1]                     \n",
      "                                                                 lstm_2[0][2]                     \n",
      "__________________________________________________________________________________________________\n",
      "dense (Dense)                   (None, None, 10000)  2570000     lstm_3[0][0]                     \n",
      "==================================================================================================\n",
      "Total params: 7,351,760\n",
      "Trainable params: 7,351,760\n",
      "Non-trainable params: 0\n",
      "__________________________________________________________________________________________________\n"
     ]
    }
   ],
   "source": [
    "# 디코더의 출력층\n",
    "decoder_softmax_layer = Dense(tar_vocab, activation='softmax')\n",
    "decoder_softmax_outputs = decoder_softmax_layer(decoder_outputs) \n",
    "\n",
    "# 모델 정의\n",
    "model = Model([encoder_inputs, decoder_inputs], decoder_softmax_outputs)\n",
    "model.summary()"
   ]
  },
  {
   "cell_type": "code",
   "execution_count": 74,
   "id": "ae99b320",
   "metadata": {},
   "outputs": [
    {
     "name": "stdout",
     "output_type": "stream",
     "text": [
      "Model: \"model_1\"\n",
      "__________________________________________________________________________________________________\n",
      "Layer (type)                    Output Shape         Param #     Connected to                     \n",
      "==================================================================================================\n",
      "input_1 (InputLayer)            [(None, 45)]         0                                            \n",
      "__________________________________________________________________________________________________\n",
      "embedding (Embedding)           (None, 45, 100)      2000000     input_1[0][0]                    \n",
      "__________________________________________________________________________________________________\n",
      "lstm (LSTM)                     [(None, 45, 256), (N 365568      embedding[0][0]                  \n",
      "__________________________________________________________________________________________________\n",
      "input_2 (InputLayer)            [(None, None)]       0                                            \n",
      "__________________________________________________________________________________________________\n",
      "lstm_1 (LSTM)                   [(None, 45, 256), (N 525312      lstm[0][0]                       \n",
      "__________________________________________________________________________________________________\n",
      "embedding_1 (Embedding)         (None, None, 100)    1000000     input_2[0][0]                    \n",
      "__________________________________________________________________________________________________\n",
      "lstm_2 (LSTM)                   [(None, 45, 256), (N 525312      lstm_1[0][0]                     \n",
      "__________________________________________________________________________________________________\n",
      "lstm_3 (LSTM)                   [(None, None, 256),  365568      embedding_1[0][0]                \n",
      "                                                                 lstm_2[0][1]                     \n",
      "                                                                 lstm_2[0][2]                     \n",
      "__________________________________________________________________________________________________\n",
      "attention_layer (AdditiveAttent (None, None, 256)    256         lstm_3[0][0]                     \n",
      "                                                                 lstm_2[0][0]                     \n",
      "__________________________________________________________________________________________________\n",
      "concat_layer (Concatenate)      (None, None, 512)    0           lstm_3[0][0]                     \n",
      "                                                                 attention_layer[0][0]            \n",
      "__________________________________________________________________________________________________\n",
      "dense_1 (Dense)                 (None, None, 10000)  5130000     concat_layer[0][0]               \n",
      "==================================================================================================\n",
      "Total params: 9,912,016\n",
      "Trainable params: 9,912,016\n",
      "Non-trainable params: 0\n",
      "__________________________________________________________________________________________________\n"
     ]
    }
   ],
   "source": [
    "from tensorflow.keras.layers import AdditiveAttention\n",
    "\n",
    "# 어텐션 층(어텐션 함수)\n",
    "attn_layer = AdditiveAttention(name='attention_layer')\n",
    "\n",
    "# 인코더와 디코더의 모든 time step의 hidden state를 어텐션 층에 전달하고 결과를 리턴\n",
    "attn_out = attn_layer([decoder_outputs, encoder_outputs])\n",
    "\n",
    "\n",
    "# 어텐션의 결과와 디코더의 hidden state들을 연결\n",
    "decoder_concat_input = Concatenate(axis=-1, name='concat_layer')([decoder_outputs, attn_out])\n",
    "\n",
    "# 디코더의 출력층\n",
    "decoder_softmax_layer = Dense(tar_vocab, activation='softmax')\n",
    "decoder_softmax_outputs = decoder_softmax_layer(decoder_concat_input)\n",
    "\n",
    "# 모델 정의\n",
    "model = Model([encoder_inputs, decoder_inputs], decoder_softmax_outputs)\n",
    "model.summary()"
   ]
  },
  {
   "cell_type": "code",
   "execution_count": 75,
   "id": "225fee1b",
   "metadata": {},
   "outputs": [
    {
     "name": "stdout",
     "output_type": "stream",
     "text": [
      "Epoch 1/50\n",
      "306/306 [==============================] - 38s 101ms/step - loss: 5.2583 - val_loss: 4.8647\n"
     ]
    },
    {
     "name": "stderr",
     "output_type": "stream",
     "text": [
      "WARNING:absl:Found untraced functions such as lstm_cell_layer_call_fn, lstm_cell_layer_call_and_return_conditional_losses, lstm_cell_1_layer_call_fn, lstm_cell_1_layer_call_and_return_conditional_losses, lstm_cell_2_layer_call_fn while saving (showing 5 of 20). These functions will not be directly callable after loading.\n"
     ]
    },
    {
     "name": "stdout",
     "output_type": "stream",
     "text": [
      "INFO:tensorflow:Assets written to: ./model/best_model.pth/assets\n"
     ]
    },
    {
     "name": "stderr",
     "output_type": "stream",
     "text": [
      "INFO:tensorflow:Assets written to: ./model/best_model.pth/assets\n"
     ]
    },
    {
     "name": "stdout",
     "output_type": "stream",
     "text": [
      "Epoch 2/50\n",
      "306/306 [==============================] - 31s 100ms/step - loss: 4.6975 - val_loss: 4.4850\n"
     ]
    },
    {
     "name": "stderr",
     "output_type": "stream",
     "text": [
      "WARNING:absl:Found untraced functions such as lstm_cell_layer_call_fn, lstm_cell_layer_call_and_return_conditional_losses, lstm_cell_1_layer_call_fn, lstm_cell_1_layer_call_and_return_conditional_losses, lstm_cell_2_layer_call_fn while saving (showing 5 of 20). These functions will not be directly callable after loading.\n"
     ]
    },
    {
     "name": "stdout",
     "output_type": "stream",
     "text": [
      "INFO:tensorflow:Assets written to: ./model/best_model.pth/assets\n"
     ]
    },
    {
     "name": "stderr",
     "output_type": "stream",
     "text": [
      "INFO:tensorflow:Assets written to: ./model/best_model.pth/assets\n"
     ]
    },
    {
     "name": "stdout",
     "output_type": "stream",
     "text": [
      "Epoch 3/50\n",
      "306/306 [==============================] - 31s 102ms/step - loss: 4.3826 - val_loss: 4.2697\n"
     ]
    },
    {
     "name": "stderr",
     "output_type": "stream",
     "text": [
      "WARNING:absl:Found untraced functions such as lstm_cell_layer_call_fn, lstm_cell_layer_call_and_return_conditional_losses, lstm_cell_1_layer_call_fn, lstm_cell_1_layer_call_and_return_conditional_losses, lstm_cell_2_layer_call_fn while saving (showing 5 of 20). These functions will not be directly callable after loading.\n"
     ]
    },
    {
     "name": "stdout",
     "output_type": "stream",
     "text": [
      "INFO:tensorflow:Assets written to: ./model/best_model.pth/assets\n"
     ]
    },
    {
     "name": "stderr",
     "output_type": "stream",
     "text": [
      "INFO:tensorflow:Assets written to: ./model/best_model.pth/assets\n"
     ]
    },
    {
     "name": "stdout",
     "output_type": "stream",
     "text": [
      "Epoch 4/50\n",
      "306/306 [==============================] - 32s 105ms/step - loss: 4.1591 - val_loss: 4.0998\n"
     ]
    },
    {
     "name": "stderr",
     "output_type": "stream",
     "text": [
      "WARNING:absl:Found untraced functions such as lstm_cell_layer_call_fn, lstm_cell_layer_call_and_return_conditional_losses, lstm_cell_1_layer_call_fn, lstm_cell_1_layer_call_and_return_conditional_losses, lstm_cell_2_layer_call_fn while saving (showing 5 of 20). These functions will not be directly callable after loading.\n"
     ]
    },
    {
     "name": "stdout",
     "output_type": "stream",
     "text": [
      "INFO:tensorflow:Assets written to: ./model/best_model.pth/assets\n"
     ]
    },
    {
     "name": "stderr",
     "output_type": "stream",
     "text": [
      "INFO:tensorflow:Assets written to: ./model/best_model.pth/assets\n"
     ]
    },
    {
     "name": "stdout",
     "output_type": "stream",
     "text": [
      "Epoch 5/50\n",
      "306/306 [==============================] - 33s 109ms/step - loss: 3.9706 - val_loss: 3.9673\n"
     ]
    },
    {
     "name": "stderr",
     "output_type": "stream",
     "text": [
      "WARNING:absl:Found untraced functions such as lstm_cell_layer_call_fn, lstm_cell_layer_call_and_return_conditional_losses, lstm_cell_1_layer_call_fn, lstm_cell_1_layer_call_and_return_conditional_losses, lstm_cell_2_layer_call_fn while saving (showing 5 of 20). These functions will not be directly callable after loading.\n"
     ]
    },
    {
     "name": "stdout",
     "output_type": "stream",
     "text": [
      "INFO:tensorflow:Assets written to: ./model/best_model.pth/assets\n"
     ]
    },
    {
     "name": "stderr",
     "output_type": "stream",
     "text": [
      "INFO:tensorflow:Assets written to: ./model/best_model.pth/assets\n"
     ]
    },
    {
     "name": "stdout",
     "output_type": "stream",
     "text": [
      "Epoch 6/50\n",
      "306/306 [==============================] - 34s 110ms/step - loss: 3.8131 - val_loss: 3.8624\n"
     ]
    },
    {
     "name": "stderr",
     "output_type": "stream",
     "text": [
      "WARNING:absl:Found untraced functions such as lstm_cell_layer_call_fn, lstm_cell_layer_call_and_return_conditional_losses, lstm_cell_1_layer_call_fn, lstm_cell_1_layer_call_and_return_conditional_losses, lstm_cell_2_layer_call_fn while saving (showing 5 of 20). These functions will not be directly callable after loading.\n"
     ]
    },
    {
     "name": "stdout",
     "output_type": "stream",
     "text": [
      "INFO:tensorflow:Assets written to: ./model/best_model.pth/assets\n"
     ]
    },
    {
     "name": "stderr",
     "output_type": "stream",
     "text": [
      "INFO:tensorflow:Assets written to: ./model/best_model.pth/assets\n"
     ]
    },
    {
     "name": "stdout",
     "output_type": "stream",
     "text": [
      "Epoch 7/50\n",
      "306/306 [==============================] - 33s 109ms/step - loss: 3.6781 - val_loss: 3.7819\n"
     ]
    },
    {
     "name": "stderr",
     "output_type": "stream",
     "text": [
      "WARNING:absl:Found untraced functions such as lstm_cell_layer_call_fn, lstm_cell_layer_call_and_return_conditional_losses, lstm_cell_1_layer_call_fn, lstm_cell_1_layer_call_and_return_conditional_losses, lstm_cell_2_layer_call_fn while saving (showing 5 of 20). These functions will not be directly callable after loading.\n"
     ]
    },
    {
     "name": "stdout",
     "output_type": "stream",
     "text": [
      "INFO:tensorflow:Assets written to: ./model/best_model.pth/assets\n"
     ]
    },
    {
     "name": "stderr",
     "output_type": "stream",
     "text": [
      "INFO:tensorflow:Assets written to: ./model/best_model.pth/assets\n"
     ]
    },
    {
     "name": "stdout",
     "output_type": "stream",
     "text": [
      "Epoch 8/50\n",
      "306/306 [==============================] - 34s 110ms/step - loss: 3.5628 - val_loss: 3.7168\n"
     ]
    },
    {
     "name": "stderr",
     "output_type": "stream",
     "text": [
      "WARNING:absl:Found untraced functions such as lstm_cell_layer_call_fn, lstm_cell_layer_call_and_return_conditional_losses, lstm_cell_1_layer_call_fn, lstm_cell_1_layer_call_and_return_conditional_losses, lstm_cell_2_layer_call_fn while saving (showing 5 of 20). These functions will not be directly callable after loading.\n"
     ]
    },
    {
     "name": "stdout",
     "output_type": "stream",
     "text": [
      "INFO:tensorflow:Assets written to: ./model/best_model.pth/assets\n"
     ]
    },
    {
     "name": "stderr",
     "output_type": "stream",
     "text": [
      "INFO:tensorflow:Assets written to: ./model/best_model.pth/assets\n"
     ]
    },
    {
     "name": "stdout",
     "output_type": "stream",
     "text": [
      "Epoch 9/50\n",
      "306/306 [==============================] - 34s 110ms/step - loss: 3.4591 - val_loss: 3.6648\n"
     ]
    },
    {
     "name": "stderr",
     "output_type": "stream",
     "text": [
      "WARNING:absl:Found untraced functions such as lstm_cell_layer_call_fn, lstm_cell_layer_call_and_return_conditional_losses, lstm_cell_1_layer_call_fn, lstm_cell_1_layer_call_and_return_conditional_losses, lstm_cell_2_layer_call_fn while saving (showing 5 of 20). These functions will not be directly callable after loading.\n"
     ]
    },
    {
     "name": "stdout",
     "output_type": "stream",
     "text": [
      "INFO:tensorflow:Assets written to: ./model/best_model.pth/assets\n"
     ]
    },
    {
     "name": "stderr",
     "output_type": "stream",
     "text": [
      "INFO:tensorflow:Assets written to: ./model/best_model.pth/assets\n"
     ]
    },
    {
     "name": "stdout",
     "output_type": "stream",
     "text": [
      "Epoch 10/50\n",
      "306/306 [==============================] - 34s 110ms/step - loss: 3.3675 - val_loss: 3.6170\n"
     ]
    },
    {
     "name": "stderr",
     "output_type": "stream",
     "text": [
      "WARNING:absl:Found untraced functions such as lstm_cell_layer_call_fn, lstm_cell_layer_call_and_return_conditional_losses, lstm_cell_1_layer_call_fn, lstm_cell_1_layer_call_and_return_conditional_losses, lstm_cell_2_layer_call_fn while saving (showing 5 of 20). These functions will not be directly callable after loading.\n"
     ]
    },
    {
     "name": "stdout",
     "output_type": "stream",
     "text": [
      "INFO:tensorflow:Assets written to: ./model/best_model.pth/assets\n"
     ]
    },
    {
     "name": "stderr",
     "output_type": "stream",
     "text": [
      "INFO:tensorflow:Assets written to: ./model/best_model.pth/assets\n"
     ]
    },
    {
     "name": "stdout",
     "output_type": "stream",
     "text": [
      "Epoch 11/50\n",
      "306/306 [==============================] - 34s 110ms/step - loss: 3.2861 - val_loss: 3.5861\n"
     ]
    },
    {
     "name": "stderr",
     "output_type": "stream",
     "text": [
      "WARNING:absl:Found untraced functions such as lstm_cell_layer_call_fn, lstm_cell_layer_call_and_return_conditional_losses, lstm_cell_1_layer_call_fn, lstm_cell_1_layer_call_and_return_conditional_losses, lstm_cell_2_layer_call_fn while saving (showing 5 of 20). These functions will not be directly callable after loading.\n"
     ]
    },
    {
     "name": "stdout",
     "output_type": "stream",
     "text": [
      "INFO:tensorflow:Assets written to: ./model/best_model.pth/assets\n"
     ]
    },
    {
     "name": "stderr",
     "output_type": "stream",
     "text": [
      "INFO:tensorflow:Assets written to: ./model/best_model.pth/assets\n"
     ]
    },
    {
     "name": "stdout",
     "output_type": "stream",
     "text": [
      "Epoch 12/50\n",
      "306/306 [==============================] - 34s 110ms/step - loss: 3.2132 - val_loss: 3.5507\n"
     ]
    },
    {
     "name": "stderr",
     "output_type": "stream",
     "text": [
      "WARNING:absl:Found untraced functions such as lstm_cell_layer_call_fn, lstm_cell_layer_call_and_return_conditional_losses, lstm_cell_1_layer_call_fn, lstm_cell_1_layer_call_and_return_conditional_losses, lstm_cell_2_layer_call_fn while saving (showing 5 of 20). These functions will not be directly callable after loading.\n"
     ]
    },
    {
     "name": "stdout",
     "output_type": "stream",
     "text": [
      "INFO:tensorflow:Assets written to: ./model/best_model.pth/assets\n"
     ]
    },
    {
     "name": "stderr",
     "output_type": "stream",
     "text": [
      "INFO:tensorflow:Assets written to: ./model/best_model.pth/assets\n"
     ]
    },
    {
     "name": "stdout",
     "output_type": "stream",
     "text": [
      "Epoch 13/50\n",
      "306/306 [==============================] - 34s 110ms/step - loss: 3.1456 - val_loss: 3.5289\n"
     ]
    },
    {
     "name": "stderr",
     "output_type": "stream",
     "text": [
      "WARNING:absl:Found untraced functions such as lstm_cell_layer_call_fn, lstm_cell_layer_call_and_return_conditional_losses, lstm_cell_1_layer_call_fn, lstm_cell_1_layer_call_and_return_conditional_losses, lstm_cell_2_layer_call_fn while saving (showing 5 of 20). These functions will not be directly callable after loading.\n"
     ]
    },
    {
     "name": "stdout",
     "output_type": "stream",
     "text": [
      "INFO:tensorflow:Assets written to: ./model/best_model.pth/assets\n"
     ]
    },
    {
     "name": "stderr",
     "output_type": "stream",
     "text": [
      "INFO:tensorflow:Assets written to: ./model/best_model.pth/assets\n"
     ]
    },
    {
     "name": "stdout",
     "output_type": "stream",
     "text": [
      "Epoch 14/50\n",
      "306/306 [==============================] - 34s 110ms/step - loss: 3.0838 - val_loss: 3.5047\n"
     ]
    },
    {
     "name": "stderr",
     "output_type": "stream",
     "text": [
      "WARNING:absl:Found untraced functions such as lstm_cell_layer_call_fn, lstm_cell_layer_call_and_return_conditional_losses, lstm_cell_1_layer_call_fn, lstm_cell_1_layer_call_and_return_conditional_losses, lstm_cell_2_layer_call_fn while saving (showing 5 of 20). These functions will not be directly callable after loading.\n"
     ]
    },
    {
     "name": "stdout",
     "output_type": "stream",
     "text": [
      "INFO:tensorflow:Assets written to: ./model/best_model.pth/assets\n"
     ]
    },
    {
     "name": "stderr",
     "output_type": "stream",
     "text": [
      "INFO:tensorflow:Assets written to: ./model/best_model.pth/assets\n"
     ]
    },
    {
     "name": "stdout",
     "output_type": "stream",
     "text": [
      "Epoch 15/50\n",
      "306/306 [==============================] - 34s 110ms/step - loss: 3.0232 - val_loss: 3.4910\n"
     ]
    },
    {
     "name": "stderr",
     "output_type": "stream",
     "text": [
      "WARNING:absl:Found untraced functions such as lstm_cell_layer_call_fn, lstm_cell_layer_call_and_return_conditional_losses, lstm_cell_1_layer_call_fn, lstm_cell_1_layer_call_and_return_conditional_losses, lstm_cell_2_layer_call_fn while saving (showing 5 of 20). These functions will not be directly callable after loading.\n"
     ]
    },
    {
     "name": "stdout",
     "output_type": "stream",
     "text": [
      "INFO:tensorflow:Assets written to: ./model/best_model.pth/assets\n"
     ]
    },
    {
     "name": "stderr",
     "output_type": "stream",
     "text": [
      "INFO:tensorflow:Assets written to: ./model/best_model.pth/assets\n"
     ]
    },
    {
     "name": "stdout",
     "output_type": "stream",
     "text": [
      "Epoch 16/50\n",
      "306/306 [==============================] - 34s 111ms/step - loss: 2.9718 - val_loss: 3.4790\n"
     ]
    },
    {
     "name": "stderr",
     "output_type": "stream",
     "text": [
      "WARNING:absl:Found untraced functions such as lstm_cell_layer_call_fn, lstm_cell_layer_call_and_return_conditional_losses, lstm_cell_1_layer_call_fn, lstm_cell_1_layer_call_and_return_conditional_losses, lstm_cell_2_layer_call_fn while saving (showing 5 of 20). These functions will not be directly callable after loading.\n"
     ]
    },
    {
     "name": "stdout",
     "output_type": "stream",
     "text": [
      "INFO:tensorflow:Assets written to: ./model/best_model.pth/assets\n"
     ]
    },
    {
     "name": "stderr",
     "output_type": "stream",
     "text": [
      "INFO:tensorflow:Assets written to: ./model/best_model.pth/assets\n"
     ]
    },
    {
     "name": "stdout",
     "output_type": "stream",
     "text": [
      "Epoch 17/50\n",
      "306/306 [==============================] - 34s 110ms/step - loss: 2.9230 - val_loss: 3.4622\n"
     ]
    },
    {
     "name": "stderr",
     "output_type": "stream",
     "text": [
      "WARNING:absl:Found untraced functions such as lstm_cell_layer_call_fn, lstm_cell_layer_call_and_return_conditional_losses, lstm_cell_1_layer_call_fn, lstm_cell_1_layer_call_and_return_conditional_losses, lstm_cell_2_layer_call_fn while saving (showing 5 of 20). These functions will not be directly callable after loading.\n"
     ]
    },
    {
     "name": "stdout",
     "output_type": "stream",
     "text": [
      "INFO:tensorflow:Assets written to: ./model/best_model.pth/assets\n"
     ]
    },
    {
     "name": "stderr",
     "output_type": "stream",
     "text": [
      "INFO:tensorflow:Assets written to: ./model/best_model.pth/assets\n"
     ]
    },
    {
     "name": "stdout",
     "output_type": "stream",
     "text": [
      "Epoch 18/50\n",
      "306/306 [==============================] - 34s 110ms/step - loss: 2.8770 - val_loss: 3.4538\n"
     ]
    },
    {
     "name": "stderr",
     "output_type": "stream",
     "text": [
      "WARNING:absl:Found untraced functions such as lstm_cell_layer_call_fn, lstm_cell_layer_call_and_return_conditional_losses, lstm_cell_1_layer_call_fn, lstm_cell_1_layer_call_and_return_conditional_losses, lstm_cell_2_layer_call_fn while saving (showing 5 of 20). These functions will not be directly callable after loading.\n"
     ]
    },
    {
     "name": "stdout",
     "output_type": "stream",
     "text": [
      "INFO:tensorflow:Assets written to: ./model/best_model.pth/assets\n"
     ]
    },
    {
     "name": "stderr",
     "output_type": "stream",
     "text": [
      "INFO:tensorflow:Assets written to: ./model/best_model.pth/assets\n"
     ]
    },
    {
     "name": "stdout",
     "output_type": "stream",
     "text": [
      "Epoch 19/50\n",
      "306/306 [==============================] - 34s 110ms/step - loss: 2.8338 - val_loss: 3.4434\n"
     ]
    },
    {
     "name": "stderr",
     "output_type": "stream",
     "text": [
      "WARNING:absl:Found untraced functions such as lstm_cell_layer_call_fn, lstm_cell_layer_call_and_return_conditional_losses, lstm_cell_1_layer_call_fn, lstm_cell_1_layer_call_and_return_conditional_losses, lstm_cell_2_layer_call_fn while saving (showing 5 of 20). These functions will not be directly callable after loading.\n"
     ]
    },
    {
     "name": "stdout",
     "output_type": "stream",
     "text": [
      "INFO:tensorflow:Assets written to: ./model/best_model.pth/assets\n"
     ]
    },
    {
     "name": "stderr",
     "output_type": "stream",
     "text": [
      "INFO:tensorflow:Assets written to: ./model/best_model.pth/assets\n"
     ]
    },
    {
     "name": "stdout",
     "output_type": "stream",
     "text": [
      "Epoch 20/50\n",
      "306/306 [==============================] - 34s 110ms/step - loss: 2.7928 - val_loss: 3.4370\n"
     ]
    },
    {
     "name": "stderr",
     "output_type": "stream",
     "text": [
      "WARNING:absl:Found untraced functions such as lstm_cell_layer_call_fn, lstm_cell_layer_call_and_return_conditional_losses, lstm_cell_1_layer_call_fn, lstm_cell_1_layer_call_and_return_conditional_losses, lstm_cell_2_layer_call_fn while saving (showing 5 of 20). These functions will not be directly callable after loading.\n"
     ]
    },
    {
     "name": "stdout",
     "output_type": "stream",
     "text": [
      "INFO:tensorflow:Assets written to: ./model/best_model.pth/assets\n"
     ]
    },
    {
     "name": "stderr",
     "output_type": "stream",
     "text": [
      "INFO:tensorflow:Assets written to: ./model/best_model.pth/assets\n"
     ]
    },
    {
     "name": "stdout",
     "output_type": "stream",
     "text": [
      "Epoch 21/50\n",
      "306/306 [==============================] - 34s 110ms/step - loss: 2.7558 - val_loss: 3.4306\n"
     ]
    },
    {
     "name": "stderr",
     "output_type": "stream",
     "text": [
      "WARNING:absl:Found untraced functions such as lstm_cell_layer_call_fn, lstm_cell_layer_call_and_return_conditional_losses, lstm_cell_1_layer_call_fn, lstm_cell_1_layer_call_and_return_conditional_losses, lstm_cell_2_layer_call_fn while saving (showing 5 of 20). These functions will not be directly callable after loading.\n"
     ]
    },
    {
     "name": "stdout",
     "output_type": "stream",
     "text": [
      "INFO:tensorflow:Assets written to: ./model/best_model.pth/assets\n"
     ]
    },
    {
     "name": "stderr",
     "output_type": "stream",
     "text": [
      "INFO:tensorflow:Assets written to: ./model/best_model.pth/assets\n"
     ]
    },
    {
     "name": "stdout",
     "output_type": "stream",
     "text": [
      "Epoch 22/50\n",
      "306/306 [==============================] - 34s 111ms/step - loss: 2.7203 - val_loss: 3.4282\n"
     ]
    },
    {
     "name": "stderr",
     "output_type": "stream",
     "text": [
      "WARNING:absl:Found untraced functions such as lstm_cell_layer_call_fn, lstm_cell_layer_call_and_return_conditional_losses, lstm_cell_1_layer_call_fn, lstm_cell_1_layer_call_and_return_conditional_losses, lstm_cell_2_layer_call_fn while saving (showing 5 of 20). These functions will not be directly callable after loading.\n"
     ]
    },
    {
     "name": "stdout",
     "output_type": "stream",
     "text": [
      "INFO:tensorflow:Assets written to: ./model/best_model.pth/assets\n"
     ]
    },
    {
     "name": "stderr",
     "output_type": "stream",
     "text": [
      "INFO:tensorflow:Assets written to: ./model/best_model.pth/assets\n"
     ]
    },
    {
     "name": "stdout",
     "output_type": "stream",
     "text": [
      "Epoch 23/50\n",
      "306/306 [==============================] - 34s 110ms/step - loss: 2.6863 - val_loss: 3.4261\n"
     ]
    },
    {
     "name": "stderr",
     "output_type": "stream",
     "text": [
      "WARNING:absl:Found untraced functions such as lstm_cell_layer_call_fn, lstm_cell_layer_call_and_return_conditional_losses, lstm_cell_1_layer_call_fn, lstm_cell_1_layer_call_and_return_conditional_losses, lstm_cell_2_layer_call_fn while saving (showing 5 of 20). These functions will not be directly callable after loading.\n"
     ]
    },
    {
     "name": "stdout",
     "output_type": "stream",
     "text": [
      "INFO:tensorflow:Assets written to: ./model/best_model.pth/assets\n"
     ]
    },
    {
     "name": "stderr",
     "output_type": "stream",
     "text": [
      "INFO:tensorflow:Assets written to: ./model/best_model.pth/assets\n"
     ]
    },
    {
     "name": "stdout",
     "output_type": "stream",
     "text": [
      "Epoch 24/50\n",
      "306/306 [==============================] - 34s 110ms/step - loss: 2.6515 - val_loss: 3.4269\n",
      "Epoch 25/50\n",
      "306/306 [==============================] - 34s 110ms/step - loss: 2.6188 - val_loss: 3.4237\n"
     ]
    },
    {
     "name": "stderr",
     "output_type": "stream",
     "text": [
      "WARNING:absl:Found untraced functions such as lstm_cell_layer_call_fn, lstm_cell_layer_call_and_return_conditional_losses, lstm_cell_1_layer_call_fn, lstm_cell_1_layer_call_and_return_conditional_losses, lstm_cell_2_layer_call_fn while saving (showing 5 of 20). These functions will not be directly callable after loading.\n"
     ]
    },
    {
     "name": "stdout",
     "output_type": "stream",
     "text": [
      "INFO:tensorflow:Assets written to: ./model/best_model.pth/assets\n"
     ]
    },
    {
     "name": "stderr",
     "output_type": "stream",
     "text": [
      "INFO:tensorflow:Assets written to: ./model/best_model.pth/assets\n"
     ]
    },
    {
     "name": "stdout",
     "output_type": "stream",
     "text": [
      "Epoch 26/50\n",
      "306/306 [==============================] - 34s 110ms/step - loss: 2.5893 - val_loss: 3.4191\n"
     ]
    },
    {
     "name": "stderr",
     "output_type": "stream",
     "text": [
      "WARNING:absl:Found untraced functions such as lstm_cell_layer_call_fn, lstm_cell_layer_call_and_return_conditional_losses, lstm_cell_1_layer_call_fn, lstm_cell_1_layer_call_and_return_conditional_losses, lstm_cell_2_layer_call_fn while saving (showing 5 of 20). These functions will not be directly callable after loading.\n"
     ]
    },
    {
     "name": "stdout",
     "output_type": "stream",
     "text": [
      "INFO:tensorflow:Assets written to: ./model/best_model.pth/assets\n"
     ]
    },
    {
     "name": "stderr",
     "output_type": "stream",
     "text": [
      "INFO:tensorflow:Assets written to: ./model/best_model.pth/assets\n"
     ]
    },
    {
     "name": "stdout",
     "output_type": "stream",
     "text": [
      "Epoch 27/50\n",
      "306/306 [==============================] - 34s 111ms/step - loss: 2.5603 - val_loss: 3.4206\n",
      "Epoch 28/50\n",
      "306/306 [==============================] - 34s 110ms/step - loss: 2.5327 - val_loss: 3.4229\n",
      "Epoch 00028: early stopping\n"
     ]
    }
   ],
   "source": [
    "from tensorflow import keras\n",
    "model.compile(optimizer='rmsprop', loss='sparse_categorical_crossentropy')\n",
    "es = EarlyStopping(monitor='val_loss', patience=2, verbose=1)\n",
    "checkpoint = keras.callbacks.ModelCheckpoint(\"./model/best_model.pth\", save_best_only=True) \n",
    "history = model.fit(x=[encoder_input_train, decoder_input_train], y=decoder_target_train, \\\n",
    "          validation_data=([encoder_input_test, decoder_input_test], decoder_target_test), \\\n",
    "          batch_size=256, callbacks=[es, checkpoint], epochs=50)"
   ]
  },
  {
   "cell_type": "code",
   "execution_count": 76,
   "id": "e0fec7cf",
   "metadata": {},
   "outputs": [
    {
     "data": {
      "image/png": "[encoded data removed]",
      "text/plain": [
       "<Figure size 432x288 with 1 Axes>"
      ]
     },
     "metadata": {
      "needs_background": "light"
     },
     "output_type": "display_data"
    }
   ],
   "source": [
    "plt.plot(history.history['loss'], label='train')\n",
    "plt.plot(history.history['val_loss'], label='test')\n",
    "plt.legend()\n",
    "plt.show()"
   ]
  },
  {
   "cell_type": "code",
   "execution_count": 78,
   "id": "31d3b6a4",
   "metadata": {},
   "outputs": [],
   "source": [
    "src_index_to_word = src_tokenizer.index_word # 원문 단어 집합에서 정수 -> 단어를 얻음\n",
    "tar_word_to_index = tar_tokenizer.word_index # 요약 단어 집합에서 단어 -> 정수를 얻음\n",
    "tar_index_to_word = tar_tokenizer.index_word # 요약 단어 집합에서 정수 -> 단어를 얻음"
   ]
  },
  {
   "cell_type": "markdown",
   "id": "1dfb2f6f",
   "metadata": {},
   "source": [
    "# 실제 결과와 요약문 비교"
   ]
  },
  {
   "cell_type": "code",
   "execution_count": 77,
   "id": "4d1490a9",
   "metadata": {},
   "outputs": [
    {
     "name": "stdout",
     "output_type": "stream",
     "text": [
      "=3\n"
     ]
    }
   ],
   "source": [
    "# 인코더 설계\n",
    "encoder_model = Model(inputs=encoder_inputs, outputs=[encoder_outputs, state_h, state_c])\n",
    "\n",
    "# 이전 시점의 상태들을 저장하는 텐서\n",
    "decoder_state_input_h = Input(shape=(hidden_size,))\n",
    "decoder_state_input_c = Input(shape=(hidden_size,))\n",
    "\n",
    "dec_emb2 = dec_emb_layer(decoder_inputs)\n",
    "\n",
    "# 문장의 다음 단어를 예측하기 위해서 초기 상태(initial_state)를 이전 시점의 상태로 사용. 이는 뒤의 함수 decode_sequence()에 구현\n",
    "# 훈련 과정에서와 달리 LSTM의 리턴하는 은닉 상태와 셀 상태인 state_h와 state_c를 버리지 않음.\n",
    "decoder_outputs2, state_h2, state_c2 = decoder_lstm(dec_emb2, initial_state=[decoder_state_input_h, decoder_state_input_c])"
   ]
  },
  {
   "cell_type": "code",
   "execution_count": 84,
   "id": "b414809f",
   "metadata": {},
   "outputs": [],
   "source": [
    "# 어텐션 함수\n",
    "decoder_hidden_state_input = Input(shape=(text_max_len, hidden_size))\n",
    "attn_out_inf = attn_layer([decoder_outputs2, decoder_hidden_state_input])\n",
    "decoder_inf_concat = Concatenate(axis=-1, name='concat')([decoder_outputs2, attn_out_inf])\n",
    "\n",
    "# 디코더의 출력층\n",
    "decoder_outputs2 = decoder_softmax_layer(decoder_inf_concat) \n",
    "\n",
    "# 최종 디코더 모델\n",
    "decoder_model = Model(\n",
    "    [decoder_inputs] + [decoder_hidden_state_input,decoder_state_input_h, decoder_state_input_c],\n",
    "    [decoder_outputs2] + [state_h2, state_c2])"
   ]
  },
  {
   "cell_type": "code",
   "execution_count": 85,
   "id": "c1c92adb",
   "metadata": {},
   "outputs": [],
   "source": [
    "def decode_sequence(input_seq):\n",
    "    # 입력으로부터 인코더의 상태를 얻음\n",
    "    e_out, e_h, e_c = encoder_model.predict(input_seq)\n",
    "\n",
    "     # <SOS>에 해당하는 토큰 생성\n",
    "    target_seq = np.zeros((1,1))\n",
    "    target_seq[0, 0] = tar_word_to_index['sostoken']\n",
    "\n",
    "    stop_condition = False\n",
    "    decoded_sentence = ''\n",
    "    while not stop_condition: # stop_condition이 True가 될 때까지 루프 반복\n",
    "\n",
    "        output_tokens, h, c = decoder_model.predict([target_seq] + [e_out, e_h, e_c])\n",
    "        sampled_token_index = np.argmax(output_tokens[0, -1, :])\n",
    "        sampled_token = tar_index_to_word[sampled_token_index]\n",
    "\n",
    "        if (sampled_token!='eostoken'):\n",
    "            decoded_sentence += ' '+sampled_token\n",
    "\n",
    "        #  <eos>에 도달하거나 최대 길이를 넘으면 중단.\n",
    "        if (sampled_token == 'eostoken'  or len(decoded_sentence.split()) >= (summary_max_len-1)):\n",
    "            stop_condition = True\n",
    "\n",
    "        # 길이가 1인 타겟 시퀀스를 업데이트\n",
    "        target_seq = np.zeros((1,1))\n",
    "        target_seq[0, 0] = sampled_token_index\n",
    "\n",
    "        # 상태를 업데이트 합니다.\n",
    "        e_h, e_c = h, c\n",
    "\n",
    "    return decoded_sentence\n"
   ]
  },
  {
   "cell_type": "code",
   "execution_count": 86,
   "id": "47a1d347",
   "metadata": {},
   "outputs": [],
   "source": [
    "# 원문의 정수 시퀀스를 텍스트 시퀀스로 변환\n",
    "def seq2text(input_seq):\n",
    "    temp=''\n",
    "    for i in input_seq:\n",
    "        if (i!=0):\n",
    "            temp = temp + src_index_to_word[i]+' '\n",
    "    return temp\n",
    "\n",
    "# 요약문의 정수 시퀀스를 텍스트 시퀀스로 변환\n",
    "def seq2summary(input_seq):\n",
    "    temp=''\n",
    "    for i in input_seq:\n",
    "        if (i!=0) and (i!=1):\n",
    "            #print(i)\n",
    "            temp = temp + tar_index_to_word[i]+' '\n",
    "    return temp\n"
   ]
  },
  {
   "cell_type": "code",
   "execution_count": 87,
   "id": "1dbca4ee",
   "metadata": {},
   "outputs": [
    {
     "name": "stdout",
     "output_type": "stream",
     "text": [
      "원문 : indian rounder ravindra jadeja scored half century followed trademark sword celebration said next time would try score century celebrate two bats swords speaking partnership ravichandran ashwin said ashwin maintain pressure ends hopefully continue outside india \n",
      "실제 요약 : will try to hit ton and celebrate with two jadeja \n",
      "예측 요약 :  jadeja shares video of his sixes in ashwin\n",
      "\n",
      "\n",
      "원문 : actress laxmi talking low box office collection julie said marketed sex film think people expected sex film sex added laxmi said also told film director sell sex film \n",
      "실제 요약 : julie should not have been as sex film \n",
      "예측 요약 :  was told to be part of sexual harassment in film\n",
      "\n",
      "\n",
      "원문 : according details uploaded bihar government website cm nitish kumar owns assets worth lakh son nishant kumar possesses assets worth crore four times father wealth nishant assets include ancestral land residential buildings nitish movable assets worth lakh addition flat delhi valued lakh \n",
      "실제 요약 : bihar cm nitish kumar son four times richer than him \n",
      "예측 요약 :  bihar cm son to land assets in bihar reports\n",
      "\n",
      "\n",
      "원문 : union public service commission fixed seven day time frame candidates report mistakes discrepancies questions examinations conducted representation must submitted online representation post hand entertained added upsc also said seven days would entertained circumstances \n",
      "실제 요약 : upsc sets day time limit to report mistakes in exam papers \n",
      "예측 요약 :  govt to be up to check up on report\n",
      "\n",
      "\n",
      "원문 : turkish government ended nationwide state emergency imposed following failed coup attempt july killed people wounded nearly state emergency turkey dismissed lakh civil servants charged people suspected links us based cleric turkey blames failed coup attempt \n",
      "실제 요약 : turkey lifts state of emergency after two years \n",
      "예측 요약 :  turkey imposes emergency on emergency after days\n",
      "\n",
      "\n",
      "원문 : central government thursday extended deadline linking aadhaar pan four months december year income tax department earlier said tax returns filed taxpayers would taken processing unless aadhaar linked pan august previous deadline \n",
      "실제 요약 : deadline to link aadhaar with pan extended to december \n",
      "예측 요약 :  deadline to be aadhaar for filing returns extended to aadhaar\n",
      "\n",
      "\n",
      "원문 : homegrown commerce startup flipkart approached grocery delivery startup grofers acquisition build grocery services according reports grofers investors tiger global softbank also favour deal reports added earlier flipkart co founder binny bansal said would consider investing companies prove strategic business \n",
      "실제 요약 : flipkart approaches grofers for acquisition report \n",
      "예측 요약 :  flipkart flipkart deal to invest billion in flipkart reports\n",
      "\n",
      "\n",
      "원문 : akshay kumar said used live around people one bedroom house chandni chowk delhi happy akshay added one lead simple easy life said take much stress concentrate happiness exercise take care eat \n",
      "실제 요약 : used to live with people in one bedroom house akshay \n",
      "예측 요약 :  have spent to get money to get money akshay\n",
      "\n",
      "\n",
      "원문 : us president donald trump monday started first full cabinet meeting praising successes first days claimed country never president things trump followed cabinet members praised thanked giving opportunity blessing serve agenda \n",
      "실제 요약 : trump praises himself in first full cabinet meeting \n",
      "예측 요약 :  trump st quarter of white house\n",
      "\n",
      "\n",
      "원문 : karnataka chief minister hd kumaraswamy wednesday said hoped centre would respect respond positively public sentiments favour holding india show bengaluru instead shifting lucknow kumaraswamy added written prime minister defence minister brought issue notice members parliament \n",
      "실제 요약 : taka cm asks centre not to shift show out of luru \n",
      "예측 요약 :  taka cm should be like taka cm\n",
      "\n",
      "\n",
      "원문 : budget speech british finance minister philip hammond said government plans launch driverless cars announce million funding artificial intelligence achieve coming years million fund also announced companies hoping roll charging points across uk \n",
      "실제 요약 : uk to launch driverless cars by \n",
      "예측 요약 :  govt to acquire ai startup for india\n",
      "\n",
      "\n",
      "원문 : india seeking sharp discount microsoft windows operating system following recent ransomware attacks like wannacry petya deal would allow five crore indian windows users upgrade latest windows claimed secure india cyber security coordinator gulshan rai said microsoft officials principle agreed request \n",
      "실제 요약 : india asks microsoft for windows discount after \n",
      "예측 요약 :  cyber attack may be used to hit us report\n",
      "\n",
      "\n",
      "원문 : total naked people went dip music festival finland attempt break world record biggest naked swim stay water five minutes order break record organisers waiting guinness world records confirm record \n",
      "실제 요약 : naked people go swimming to create world record \n",
      "예측 요약 :  man city world record for world cup\n",
      "\n",
      "\n",
      "원문 : facebook post us mother named thanking man gave first class flight seat month old daughter flight hospital gone viral pushing also oxygen machine daughter wrote thank reminded much good world added \n",
      "실제 요약 : man gives his st class seat to mother baby mother post viral \n",
      "예측 요약 :  woman claims she was taken her her flight after flight\n",
      "\n",
      "\n",
      "원문 : head mutt karnataka udupi died thursday manipal hospital suspects poisoned admitted hospital wednesday complained allegedly differences six suffered massive bleeding died despite blood transfusion hospital said \n",
      "실제 요약 : head of dies hospital suspects he was poisoned \n",
      "예측 요약 :  taka man dies after being hit by water during water\n",
      "\n",
      "\n",
      "원문 : year old indian man shot dead two armed robbers convenience store washington state us family said friday police said vikram working clerk killed one robbers handed money punjab recently shifted us \n",
      "실제 요약 : indian man shot dead by robbers in us \n",
      "예측 요약 :  indian man shot dead by us in uk\n",
      "\n",
      "\n",
      "원문 : archaeologists discovered foot long tusk unusually low tide essex coast england low tide made water km exposing tusk found field exploration walk participants walk along stretch beach long line record find \n",
      "실제 요약 : foot long found on english coast \n",
      "예측 요약 :  year old discovered in egypt\n",
      "\n",
      "\n",
      "원문 : air india flight grounded catering van hit door aircraft delhi airport sunday morning according reports air india officials assessing damage said loss run lakhs flight delayed hour airport driving permit van driver seized \n",
      "실제 요약 : air india plane grounded after being hit by van \n",
      "예측 요약 :  air india flight makes emergency landing after delhi flight\n",
      "\n",
      "\n",
      "원문 : according reports actress kangana ranaut confirmed referring previous interview actor aditya pancholi remember going wife meeting like please save kangana quoted saying earlier kangana revealed physically abused man father age \n",
      "실제 요약 : kangana names aditya pancholi as her reports \n",
      "예측 요약 :  kangana is the only person kangana on kangana ranaut\n",
      "\n",
      "\n",
      "원문 : according police data incidents molestation reported karnataka capital city bengaluru increased last years data revealed total complaints filed years however conviction rate stood cases reaching punishment stage \n",
      "실제 요약 : bengaluru molestation cases rise over decade \n",
      "예측 요약 :  cases of in karnataka\n",
      "\n",
      "\n",
      "원문 : taxiforsure co founder radhakrishna led knowledge sharing startup raised crore series round funding led chinese investor capital startups existing investors accel india blume ventures also participated round app based local language question answer platform indians voice text capabilities \n",
      "실제 요약 : founder knowledge sharing app gets cr \n",
      "예측 요약 :  co founder raises crore\n",
      "\n",
      "\n",
      "원문 : kolkata police issued notification banning public display weapons january january ban applies swords spears offensive weapons however extend persons exempted certain provisions arms act holders permits granted commissioner police kolkata \n",
      "실제 요약 : kolkata police bans public display of weapons \n",
      "예측 요약 :  delhi bans use of nuclear weapons\n",
      "\n",
      "\n",
      "원문 : group us senators demanded enhancement india role afghanistan especially helping afghan security forces amendment introduced lawmakers seeks increase india role assisting afghan security forces logistics support threat analysis maintenance support india one biggest afghanistan development projects \n",
      "실제 요약 : us lawmakers demand increased role of india in afghanistan \n",
      "예측 요약 :  us rejects talks with taliban to support taliban\n",
      "\n",
      "\n",
      "원문 : pen manufacturer writing industries filed draft papers market regulator sebi raise funds initial public offering issue fresh shares worth crore besides secondary market sale shares worth crore promoters ipo could make mumbai based firm india highest valued non paper listed stationery company \n",
      "실제 요약 : pen maker files for ipo plans to raise crore \n"
     ]
    },
    {
     "name": "stdout",
     "output_type": "stream",
     "text": [
      "예측 요약 :  reliance jio ipo ipo ipo sebi to ipo\n",
      "\n",
      "\n",
      "원문 : john isner nicolas played longest ever tennis match lasted hours five minutes june wimbledon first round match played three days saw record games played hours minute long final set longer previous longest ever tennis match \n",
      "실제 요약 : longest ever tennis match lasted for over hours \n",
      "예측 요약 :  player first to win club in st time in st time\n",
      "\n",
      "\n",
      "원문 : order ensure financial technology startups leave london brexit uk government offer incentives including free networking trips potential partners united states firms british government wednesday also announced launch tech nation programme open founders early stage fintech firms \n",
      "실제 요약 : uk to retain startups with free trips to america \n",
      "예측 요약 :  visa to lay off employees to cut costs\n",
      "\n",
      "\n",
      "원문 : development kerala love jihad case lawyer hadiya father said statements cannot taken face value raised concerns mental well comes hadiya recently said conversion hinduism islam forced married shafin jahan muslim man \n",
      "실제 요약 : cannot take hadiya statement at face value father lawyer \n",
      "예측 요약 :  husband cannot be love to be mother of love jihad\n",
      "\n",
      "\n",
      "원문 : ex us president barack obama tweet condemning racism aftermath virginia riots august ranked second list popular tweets lakh retweets tweet quoted anti apartheid revolutionary nelson mandela also liked tweet twitter lakh likes obama claimed three top spots \n",
      "실제 요약 : obama anti racism tweet second most popular tweet of \n",
      "예측 요약 :  obama most powerful obama twitter in uk\n",
      "\n",
      "\n",
      "원문 : wheelchair bound model alexandra ukraine turned showstopper designer duo india runway week alexandra wearing midnight blue gown presented designer duo winter festive collection fashion show model suffered spinal cord injury birth resulted paralysed waist \n",
      "실제 요약 : wheelchair bound model turns showstopper at fashion week \n",
      "예측 요약 :  mumbai to walk on ramp to walk on india\n",
      "\n",
      "\n",
      "원문 : india need investments worth lakh crore roads air rail waterways finance minister arun jaitley said budget speech termed infrastructure development growth driver economy jaitley announced government roadmap infrastructure fy include plans introduce passenger friendly toll policy \n",
      "실제 요약 : india needs lakh crore investment in transport jaitley \n",
      "예측 요약 :  india to buy air india loan for crore\n",
      "\n",
      "\n",
      "원문 : french male bus drivers right wear shorts work turning skirts protest drivers protesting wear trousers extreme heat city nantes female colleagues allowed wear skirts drivers complained temperature behind wheels buses topped \n",
      "실제 요약 : bus drivers win right to wear shorts on turning up in skirts \n",
      "예측 요약 :  german police bans women in wearing wearing\n",
      "\n",
      "\n",
      "원문 : bengaluru based marketing platform raised crore funding round led accel partners infosys co founder nandan nilekani trust japanese investor qualcomm ventures partners also participated round connects farmers grocery stores supermarkets restaurants buy fruits vegetables \n",
      "실제 요약 : bengaluru raises crore from others \n",
      "예측 요약 :  logistics startup raises crore\n",
      "\n",
      "\n",
      "원문 : former infosys cfo mohandas pai friday said shares optimism finance minister arun jaitley remarks indian economy grow despite lower gdp growth first quarter first quarter impacted gst added pai said growth future would benefit creation one single tax increased competition low inflation \n",
      "실제 요약 : share jaitley that india will grow at pai \n",
      "예측 요약 :  gst gdp gdp growth growth in fy\n",
      "\n",
      "\n",
      "원문 : ten children rescued home california us tortured abused parents years children suffered burns injuries tortured purposes officials said matter came light police returned one couple children home fled \n",
      "실제 요약 : children rescued after torture by parents in us \n",
      "예측 요약 :  children rescued from child abuse in us\n",
      "\n",
      "\n",
      "원문 : karnataka chief minister siddaramaiah ordered bruhat bengaluru mahanagara palike fill potholes city within days threatened action fail comes day woman riding pillion nephew scooter died road accident caused due pothole \n",
      "실제 요약 : fill potholes in days taka cm orders luru civic body \n",
      "예측 요약 :  taka cm orders to taka cm on taka cm terminal\n",
      "\n",
      "\n",
      "원문 : wikileaks founder julian assange offered pay lakh anyone provide information killers journalist journalist killed car explosion monday exposed malta links panama papers scandal reportedly filed police complaint murder claiming received death threats \n",
      "실제 요약 : assange offers to find killers of panama papers journo \n",
      "예측 요약 :  uk fires facebook to pay mn to settle death report\n",
      "\n",
      "\n",
      "원문 : rajkummar rao starrer newton become indian actor yadav eighth film sent oscars salaam bombay queen earth live six films india official entries however yadav indo canadian film water nominated canada best foreign language film category oscars \n",
      "실제 요약 : newton becomes yadav th film sent for oscars \n",
      "예측 요약 :  rajkummar rao newton newton at oscars\n",
      "\n",
      "\n",
      "원문 : japanese conglomerate softbank founder masayoshi son brother son thursday launched startup accelerator program called india startup aims invest tech food tech startups including food transportation processing delivery launched partnership son startup incubator india \n",
      "실제 요약 : softbank founder brother sets startup accelerator in india \n",
      "예측 요약 :  son shares video of stake in tech startup shares video\n",
      "\n",
      "\n",
      "원문 : thousands people participated annual pants subway ride held around globe sunday started prank seven participants presently annual event cities worldwide participants encouraged act natural tell people forgot wear pants asked questions \n",
      "실제 요약 : commuters travel in underwear for no pants subway ride \n",
      "예측 요약 :  new york to get new york to\n",
      "\n",
      "\n",
      "원문 : indian non banking finance company bajaj finance marked valuation mobile wallet company mobikwik million earlier valuation million comes bajaj finance announced increase stake mobikwik founded mobikwik offers wallet shopping peer peer money transfer bill payments \n",
      "실제 요약 : bajaj finance marks down mobikwik valuation to mn \n",
      "예측 요약 :  airtel to buy stake in billion valuation\n",
      "\n",
      "\n",
      "원문 : us based developer charles developed bracelet called bolt charging bracelet also works phone charger device turns thin usb lightning cable light pull allowing users charge sync devices convenience however device compatible apple devices including iphone ipad \n",
      "실제 요약 : which also works as phone charger made \n",
      "예측 요약 :  device that can be used to monitor devices made\n",
      "\n",
      "\n",
      "원문 : dna samples many sexual assault cases pending examination central forensic science laboratories till december northern region highest number samples moreover six central forensic laboratories directorate forensic science services three labs facility check dna samples \n",
      "실제 요약 : dna samples from rape cases pending examination \n",
      "예측 요약 :  mumbai doctors get medical treatment after years\n",
      "\n",
      "\n",
      "원문 : television actor raja chaudhary booked allegedly getting brawl group people influence alcohol kanpur friday registered case sent medical tests investigation underway said sanjeev suman sp kanpur west raja known appearing bigg boss \n",
      "실제 요약 : actor raja booked for drunken brawl \n",
      "예측 요약 :  actor files fir against police in journo abduction case\n",
      "\n",
      "\n",
      "원문 : goa agriculture director nelson advising farmers adopt cosmic farming saying need chant least days better crop yield believers cosmic farming claim mantra draws energy universe field farmers combining organic farming meditation showing remarkable results added \n",
      "실제 요약 : chant to improve crop goa official to farmers \n",
      "예측 요약 :  goa cm calls for the state assembly\n",
      "\n",
      "\n",
      "원문 : national climate assessment us government cited human influence dominant cause warming since mid th century adding convincing alternative explanations backed evidence highlights warmest years record occurred last years comes denial climate change trump administration terming chinese hoax \n",
      "실제 요약 : us report trump says humans cause climate change \n",
      "예측 요약 :  eu warns world most powerful europe study\n",
      "\n",
      "\n",
      "원문 : facebook post indian origin woman accused two hospitals india medical kidnapping overcharging posted pictures bills claimed doctors asked payment conducting procedures like kidney mother week death days total bill crore woman mother died multiple infections \n",
      "실제 요약 : woman accuses indian hospitals of cheating family of cr \n",
      "예측 요약 :  fb gives birth to woman who fell her to hospital\n",
      "\n",
      "\n",
      "원문 : lucky air passenger accidentally deployed emergency slide opened emergency exit hot aircraft landed china passenger detained days later said know cabin door meanwhile airline said would seek compensation man \n",
      "실제 요약 : flyer opens emergency exit deploys as cabin was hot \n"
     ]
    },
    {
     "name": "stdout",
     "output_type": "stream",
     "text": [
      "예측 요약 :  plane tries to plane plane mid air\n",
      "\n",
      "\n",
      "원문 : sandra bullock anne hathaway starrer ocean released today fails work lazy storytelling lack imagination wrote hindustan times ocean lot style substance said times india firstpost wrote film little offer beyond visual rated \n",
      "실제 요약 : bullock hathaway starrer ocean hits theatres \n",
      "예측 요약 :  starrer hits the theatres\n",
      "\n",
      "\n",
      "원문 : law commission india suggested linking aadhaar cards marriage registration universal tracing records commission also recommended compulsory certification marriages prevent fraudulent weddings besides suggesting window days within certification must completed time period penalty per day could imposed \n",
      "실제 요약 : law commission suggests linking aadhaar with marriage record \n",
      "예측 요약 :  govt proposes pan cards to aadhaar in aadhaar\n",
      "\n",
      "\n",
      "원문 : gate feroz shah kotla stadium new delhi renamed cricketer virender sehwag honour former delhi player sehwag expected inaugurate gate october day opening india new zealand inauguration event reportedly attended several former current indian cricketers \n",
      "실제 요약 : delhi stadium gate to be renamed after sehwag \n",
      "예측 요약 :  sehwag to play sehwag in chennai\n",
      "\n",
      "\n"
     ]
    }
   ],
   "source": [
    "for i in range(50, 100):\n",
    "    print(\"원문 :\", seq2text(encoder_input_test[i]))\n",
    "    print(\"실제 요약 :\", seq2summary(decoder_input_test[i]))\n",
    "    print(\"예측 요약 :\", decode_sequence(encoder_input_test[i].reshape(1, text_max_len)))\n",
    "    print(\"\\n\")"
   ]
  },
  {
   "cell_type": "code",
   "execution_count": null,
   "id": "792da5da",
   "metadata": {},
   "outputs": [],
   "source": []
  },
  {
   "cell_type": "code",
   "execution_count": null,
   "id": "50c8dca7",
   "metadata": {},
   "outputs": [],
   "source": []
  },
  {
   "cell_type": "markdown",
   "id": "0d5e3dbe",
   "metadata": {},
   "source": [
    "# Summa를 이용한 추출적 요약\n",
    "추상적 요약에 비해 난이도가 낮고 기존 문장에서 문장을 꺼내오는 것이므로 잘못된 요약이 나올 가능성이 낮음"
   ]
  },
  {
   "cell_type": "code",
   "execution_count": 3,
   "id": "a4295ad8",
   "metadata": {},
   "outputs": [],
   "source": [
    "import requests\n",
    "from summa.summarizer import summarize"
   ]
  },
  {
   "cell_type": "code",
   "execution_count": 4,
   "id": "abd4fa23",
   "metadata": {},
   "outputs": [
    {
     "name": "stdout",
     "output_type": "stream",
     "text": [
      "headlines 열에서 중복을 배제한 유일한 샘플의 수 : 98280\n",
      "text 열에서 중복을 배제한 유일한 샘플의 수 : 98360\n",
      "전체 샘플수 : 98280\n",
      "headlines    0\n",
      "text         0\n",
      "dtype: int64\n",
      "전체 샘플수 : 98280\n",
      "정규화 사전의 수:  120\n",
      "불용어 개수 : 179\n",
      "['i', 'me', 'my', 'myself', 'we', 'our', 'ours', 'ourselves', 'you', \"you're\", \"you've\", \"you'll\", \"you'd\", 'your', 'yours', 'yourself', 'yourselves', 'he', 'him', 'his', 'himself', 'she', \"she's\", 'her', 'hers', 'herself', 'it', \"it's\", 'its', 'itself', 'they', 'them', 'their', 'theirs', 'themselves', 'what', 'which', 'who', 'whom', 'this', 'that', \"that'll\", 'these', 'those', 'am', 'is', 'are', 'was', 'were', 'be', 'been', 'being', 'have', 'has', 'had', 'having', 'do', 'does', 'did', 'doing', 'a', 'an', 'the', 'and', 'but', 'if', 'or', 'because', 'as', 'until', 'while', 'of', 'at', 'by', 'for', 'with', 'about', 'against', 'between', 'into', 'through', 'during', 'before', 'after', 'above', 'below', 'to', 'from', 'up', 'down', 'in', 'out', 'on', 'off', 'over', 'under', 'again', 'further', 'then', 'once', 'here', 'there', 'when', 'where', 'why', 'how', 'all', 'any', 'both', 'each', 'few', 'more', 'most', 'other', 'some', 'such', 'no', 'nor', 'not', 'only', 'own', 'same', 'so', 'than', 'too', 'very', 's', 't', 'can', 'will', 'just', 'don', \"don't\", 'should', \"should've\", 'now', 'd', 'll', 'm', 'o', 're', 've', 'y', 'ain', 'aren', \"aren't\", 'couldn', \"couldn't\", 'didn', \"didn't\", 'doesn', \"doesn't\", 'hadn', \"hadn't\", 'hasn', \"hasn't\", 'haven', \"haven't\", 'isn', \"isn't\", 'ma', 'mightn', \"mightn't\", 'mustn', \"mustn't\", 'needn', \"needn't\", 'shan', \"shan't\", 'shouldn', \"shouldn't\", 'wasn', \"wasn't\", 'weren', \"weren't\", 'won', \"won't\", 'wouldn', \"wouldn't\"]\n"
     ]
    }
   ],
   "source": [
    "print('headlines 열에서 중복을 배제한 유일한 샘플의 수 :', data['headlines'].nunique())\n",
    "print('text 열에서 중복을 배제한 유일한 샘플의 수 :', data['text'].nunique())\n",
    "data.drop_duplicates(subset = ['headlines'], inplace=True)\n",
    "print('전체 샘플수 :', (len(data)))\n",
    "print(data.isnull().sum())\n",
    "data.dropna(axis=0, inplace=True)\n",
    "print('전체 샘플수 :', (len(data)))\n",
    "contractions = {\"ain't\": \"is not\", \"aren't\": \"are not\",\"can't\": \"cannot\", \"'cause\": \"because\", \"could've\": \"could have\", \"couldn't\": \"could not\",\n",
    "                           \"didn't\": \"did not\",  \"doesn't\": \"does not\", \"don't\": \"do not\", \"hadn't\": \"had not\", \"hasn't\": \"has not\", \"haven't\": \"have not\",\n",
    "                           \"he'd\": \"he would\",\"he'll\": \"he will\", \"he's\": \"he is\", \"how'd\": \"how did\", \"how'd'y\": \"how do you\", \"how'll\": \"how will\", \"how's\": \"how is\",\n",
    "                           \"I'd\": \"I would\", \"I'd've\": \"I would have\", \"I'll\": \"I will\", \"I'll've\": \"I will have\",\"I'm\": \"I am\", \"I've\": \"I have\", \"i'd\": \"i would\",\n",
    "                           \"i'd've\": \"i would have\", \"i'll\": \"i will\",  \"i'll've\": \"i will have\",\"i'm\": \"i am\", \"i've\": \"i have\", \"isn't\": \"is not\", \"it'd\": \"it would\",\n",
    "                           \"it'd've\": \"it would have\", \"it'll\": \"it will\", \"it'll've\": \"it will have\",\"it's\": \"it is\", \"let's\": \"let us\", \"ma'am\": \"madam\",\n",
    "                           \"mayn't\": \"may not\", \"might've\": \"might have\",\"mightn't\": \"might not\",\"mightn't've\": \"might not have\", \"must've\": \"must have\",\n",
    "                           \"mustn't\": \"must not\", \"mustn't've\": \"must not have\", \"needn't\": \"need not\", \"needn't've\": \"need not have\",\"o'clock\": \"of the clock\",\n",
    "                           \"oughtn't\": \"ought not\", \"oughtn't've\": \"ought not have\", \"shan't\": \"shall not\", \"sha'n't\": \"shall not\", \"shan't've\": \"shall not have\",\n",
    "                           \"she'd\": \"she would\", \"she'd've\": \"she would have\", \"she'll\": \"she will\", \"she'll've\": \"she will have\", \"she's\": \"she is\",\n",
    "                           \"should've\": \"should have\", \"shouldn't\": \"should not\", \"shouldn't've\": \"should not have\", \"so've\": \"so have\",\"so's\": \"so as\",\n",
    "                           \"this's\": \"this is\",\"that'd\": \"that would\", \"that'd've\": \"that would have\", \"that's\": \"that is\", \"there'd\": \"there would\",\n",
    "                           \"there'd've\": \"there would have\", \"there's\": \"there is\", \"here's\": \"here is\",\"they'd\": \"they would\", \"they'd've\": \"they would have\",\n",
    "                           \"they'll\": \"they will\", \"they'll've\": \"they will have\", \"they're\": \"they are\", \"they've\": \"they have\", \"to've\": \"to have\",\n",
    "                           \"wasn't\": \"was not\", \"we'd\": \"we would\", \"we'd've\": \"we would have\", \"we'll\": \"we will\", \"we'll've\": \"we will have\", \"we're\": \"we are\",\n",
    "                           \"we've\": \"we have\", \"weren't\": \"were not\", \"what'll\": \"what will\", \"what'll've\": \"what will have\", \"what're\": \"what are\",\n",
    "                           \"what's\": \"what is\", \"what've\": \"what have\", \"when's\": \"when is\", \"when've\": \"when have\", \"where'd\": \"where did\", \"where's\": \"where is\",\n",
    "                           \"where've\": \"where have\", \"who'll\": \"who will\", \"who'll've\": \"who will have\", \"who's\": \"who is\", \"who've\": \"who have\",\n",
    "                           \"why's\": \"why is\", \"why've\": \"why have\", \"will've\": \"will have\", \"won't\": \"will not\", \"won't've\": \"will not have\",\n",
    "                           \"would've\": \"would have\", \"wouldn't\": \"would not\", \"wouldn't've\": \"would not have\", \"y'all\": \"you all\",\n",
    "                           \"y'all'd\": \"you all would\",\"y'all'd've\": \"you all would have\",\"y'all're\": \"you all are\",\"y'all've\": \"you all have\",\n",
    "                           \"you'd\": \"you would\", \"you'd've\": \"you would have\", \"you'll\": \"you will\", \"you'll've\": \"you will have\",\n",
    "                           \"you're\": \"you are\", \"you've\": \"you have\"}\n",
    "\n",
    "print(\"정규화 사전의 수: \", len(contractions))\n",
    "print('불용어 개수 :', len(stopwords.words('english') ))\n",
    "print(stopwords.words('english'))"
   ]
  },
  {
   "cell_type": "code",
   "execution_count": 5,
   "id": "ee1531d9",
   "metadata": {},
   "outputs": [],
   "source": [
    "# 데이터 전처리 함수\n",
    "def preprocess_sentence(sentence, remove_stopwords=True):\n",
    "    sentence = sentence.lower() # 텍스트 소문자화\n",
    "    sentence = BeautifulSoup(sentence, \"lxml\").text # <br />, <a href = ...> 등의 html 태그 제거\n",
    "    sentence = re.sub(r'\\([^)]*\\)', '', sentence) # 괄호로 닫힌 문자열 (...) 제거 Ex) my husband (and myself!) for => my husband for\n",
    "    sentence = re.sub('\"','', sentence) # 쌍따옴표 \" 제거\n",
    "    sentence = ' '.join([contractions[t] if t in contractions else t for t in sentence.split(\" \")]) # 약어 정규화\n",
    "    sentence = re.sub(r\"'s\\b\",\"\", sentence) # 소유격 제거. Ex) roland's -> roland\n",
    "    sentence = re.sub(\"[^a-zA-Z]\", \" \", sentence) # 영어 외 문자(숫자, 특수문자 등) 공백으로 변환\n",
    "    sentence = re.sub('[m]{2,}', 'mm', sentence) # m이 3개 이상이면 2개로 변경. Ex) ummmmmmm yeah -> umm yeah\n",
    "    \n",
    "    # 불용어 제거 (Text)\n",
    "    if remove_stopwords:\n",
    "        tokens = ' '.join(word for word in sentence.split() if not word in stopwords.words('english') if len(word) > 1)\n",
    "    # 불용어 미제거 (Summary)\n",
    "    else:\n",
    "        tokens = ' '.join(word for word in sentence.split() if len(word) > 1)\n",
    "    return tokens"
   ]
  },
  {
   "cell_type": "code",
   "execution_count": 6,
   "id": "15947840",
   "metadata": {},
   "outputs": [
    {
     "name": "stdout",
     "output_type": "stream",
     "text": [
      "Text 전처리 후 결과:  ['saurav kant alumnus upgrad iiit pg program machine learning artificial intelligence sr systems engineer infosys almost years work experience program upgrad degree career support helped transition data scientist tech mahindra salary hike upgrad online power learning powered lakh careers', 'kunal shah credit card bill payment platform cred gave users chance win free food swiggy one year pranav kaushik delhi techie bagged reward spending cred coins users get one cred coin per rupee bill paid used avail rewards brands like ixigo bookmyshow ubereats cult fit', 'new zealand defeated india wickets fourth odi hamilton thursday win first match five match odi series india lost international match rohit sharma captaincy consecutive victories dating back march match witnessed india getting seventh lowest total odi cricket history', 'aegon life iterm insurance plan customers enjoy tax benefits premiums paid save taxes plan provides life cover age years also customers options insure critical illnesses disability accidental death benefit rider life cover age years', 'speaking sexual harassment allegations rajkumar hirani sonam kapoor said known hirani many years true metoo movement get derailed metoo movement always believe woman case need reserve judgment added hirani accused assistant worked sanju']\n"
     ]
    }
   ],
   "source": [
    "# 전체 Text 데이터에 대한 전처리 : 10분 이상 시간이 걸릴 수 있습니다. \n",
    "clean_text = [row for row in data[\"text\"].map(lambda x:preprocess_sentence(x, remove_stopwords=True))]\n",
    "\n",
    "# 전처리 후 출력\n",
    "print(\"Text 전처리 후 결과: \", clean_text[:5])"
   ]
  },
  {
   "cell_type": "code",
   "execution_count": 7,
   "id": "457f0cef",
   "metadata": {},
   "outputs": [
    {
     "name": "stdout",
     "output_type": "stream",
     "text": [
      "Summary 전처리 후 결과:  ['upgrad learner switches to career in ml al with salary hike', 'delhi techie wins free food from swiggy for one year on cred', 'new zealand end rohit sharma led india match winning streak', 'aegon life iterm insurance plan helps customers save tax', 'have known hirani for yrs what if metoo claims are not true sonam']\n",
      "전체 샘플수 : 98280\n"
     ]
    }
   ],
   "source": [
    "# 전체 Summary 데이터에 대한 전처리 : 5분 이상 시간이 걸릴 수 있습니다. \n",
    "clean_summary = [row for row in data[\"headlines\"].map(lambda x:preprocess_sentence(x, remove_stopwords=False))]\n",
    "\n",
    "print(\"Summary 전처리 후 결과: \", clean_summary[:5])\n",
    "data['Text'] = clean_text\n",
    "data['Summary'] = clean_summary\n",
    "\n",
    "# 빈 값을 Null 값으로 변환\n",
    "data.replace('', np.nan, inplace=True)\n",
    "data = data[['Text', 'Summary']]\n",
    "data.isnull().sum() # 전처리 후 발생한 null값을 추가로 drop\n",
    "data.dropna(axis=0, inplace=True)\n",
    "print('전체 샘플수 :', (len(data)))"
   ]
  },
  {
   "cell_type": "code",
   "execution_count": 258,
   "id": "2011bbc0",
   "metadata": {
    "scrolled": true
   },
   "outputs": [
    {
     "name": "stdout",
     "output_type": "stream",
     "text": [
      "gurugram based agriculture startup origo commodities raised nearly crore funding netherlands based oikocredit triodos investment management caspian sme impact fund iv bengaluru based firm unitus capital acted exclusive financial advisor transaction founded startup provides post harvest agriculture supply chain financing logistics solutions\n",
      "bengaluru based edtech startup inurture raised crore series funding round led venture capital firm ventureast startup said existing investors bertelsmann india investments ascent capital also participated round founded inurture offers undergraduate postgraduate short term corporate certification programs subjects including cloud technology\n",
      "addressing event mumbai israeli pm benjamin netanyahu thursday said world loves bollywood israel loves bollywood love bollywood netanyahu also invited several bollywood personalities including imtiaz ali amitabh bachchan karan johar click selfie stating selfie taken oscars went viral netanyahu said let hundred million people see friendship\n",
      "google india vice president rajan anandan invested undisclosed sum bengaluru based online lingerie retailer buttercups intimates us based investor chandra chappadi snapdeal former chief product officer anand chandrasekaran also participated round founded arpita ganesh buttercups provides women innerwear runs online quiz help women find fit\n",
      "activists human rights organisation amnesty international friday renamed street outside saudi arabia embassy london slain journalist jamal khashoggi erected mock khashoggi street sign mark one month since journalist murdered inside saudi arabia consulate turkey need see jamal khashoggi killers brought justice human rights organisation said\n",
      "bengaluru based mobile payments startup tonetag raised million investors led amazon mastercard tonetag investors include manipal global education chairman mohandas pai premjiinvest chief investment officer tk kurien facebook executive anand chandrasekaran founded tonetag allows secure proximity payments using sound near field communication\n",
      "british supermodel naomi campbell condoling late actress sridevi demise shared two pictures instagram stories wrote rip sridevi indian origin american author padma lakshmi also condoled demise instagram story several pakistani artistes including mahira khan rahat fateh ali khan ali zafar earlier tweeted condolence messages following demise\n",
      "bengaluru based healthtech startup sigtuple raised million funding led accel partners idg ventures existing investor flipkart co founder binny bansal also participating series round founded april rohit kumar pandey tathagato rai dastidar apurv anand sigtuple builds artificial intelligence based hardware software digitise pathological tests\n",
      "us house representatives approved fresh sanctions russia european commission president jean claude juncker said america first cannot mean europe interests come last comes sanctions also include penalties european companies engaged joint eu russia energy projects juncker also threatened retaliatory action us europe interests get affected nn\n",
      "russian pranksters fooled us energy secretary rick perry believing discussing american coal exports pig manure ukrainian pm volodymyr groysman pranksters convinced perry ukrainian president petro poroshenko invented new biofuel made using pig manure home brewed alcohol perry called idea interesting saying looked forward meeting poroshenko\n",
      "scientists developed compact low cost laser microscope times magnifying power conventional light based ones using nanoparticles shine light sub cellular structures super resolution bio imaging achieved particles measuring nm low power infrared laser microscope provides cheap alternative high power laser microscopes burn biological samples\n",
      "switzerland nineteen time grand slam champion roger federer face south korea first ever grand slam semi finalist hyeon chung rd grand slam semi final friday world number two federer defeated tomas berdych straight sets wednesday world number chung ousted six time champion novak djokovic beat usa th ranked tennys sandgren earlier wednesday\n",
      "wikileaks founder julian assange trolled cia director mike pompeo twitter pompeo called whistleblower organisation non state hostile intelligence service called non state intelligence service today state non intelligence agency produced al qaeda isis iraq iran assange tweeted pompeo also said assange associates make common cause dictators\n",
      "rajasthan based rural health tech startup karma healthcare raised crore funding round equity crowdfunding platform crowd existing investors ankur capital ennovent capital beyond capital another undisclosed angel investor also participated funding round company said founded startup provides technology based healthcare solutions rural areas\n",
      "punjab police arrested border security force jawan sheikh riyazuddin allegedly spying pakistan intelligence agency isi information includes sharing details barbed wire fencing footage border roads contact numbers bsf unit officers among others said police according police riyazuddin using facebook messenger mobile phones share information\n",
      "north korea begun dismantling missile engine test site sohae satellite launching station reports citing satellite imagery claimed analysis images monitoring group north revealed north korea also began dismantling site used assemble space launch vehicles north korean leader kim jong un pledged denuclearise korean peninsula singapore summit\n",
      "turkish billionaire ferit sahenk reportedly talks sell europe famous luxury hotels investment firm owned dubai ruler sheikh mohammed bin rashid al maktoum discussions reportedly involve properties including italy capri palace aldrovandi villa borghese rome istanbul grand hyatt dubai holding already owns luxury hotel company jumeirah group\n",
      "coa appointed three member committee probe anonymous sexual harassment allegations bcci ceo rahul johri panel includes justice rakesh sharma ex cbi director pc sharma ex chairperson delhi commission women barkha singh coa member diana edulji six associations wanted johri ouster coa chairman vinod rai decided independent inquiry necessary\n",
      "boston university scientists reprogrammed human cells make follow computer like instructions researchers created different logic circuits human kidney cells using genetic enzymes cut recombine dna strands technique gene manipulation could used program stem cells generate desired tissue killing tumour cells via biomarkers said researchers\n",
      "us whistleblower edward snowden slammed harvard university withdrawing fellowship invitation ex us transgender soldier chelsea manning harvard invited cia men directed defended torture extrajudicial killings blocks whistleblower fear controversy snowden tweeted notably manning convicted giving classified us government materials wikileaks\n",
      "shah rukh khan along children suhana khan aryan khan attended launch mumbai restaurant designed gauri khan numerous bollywood celebrities including alia bhatt sidharth malhotra sushant singh rajput kriti sanon spotted launch anil kapoor along daughter sonam kapoor jacqueline fernandez farah khan shweta bachchan nanda also attended launch\n",
      "one biggest seed funding rounds indian startup ecosystem acko general insurance raised million seed funding funds raised narayan murthy catamaran ventures infosys co founder kris gopalakrishnan venture capital funds accel saif partners registered last year acko founded varun dua also co founded online insurance brokerage company coverfox\n",
      "reliance industries chairman mukesh ambani daughter isha ambani priyanka chopra cousin parineeti chopra among celebrities part priyanka bachelorette sharing picture girls attended bachelorette priyanka wrote red white bride picture also shows priyanka future sister law sophie turner sonali bendre sister law srishti behl arya among others\n",
      "online payments platform paytm invested undisclosed amount health tech startup qorql co founded parent company one communications former cto sanjay singh founded noida based qorql offers separate platforms doctors patients services like managing appointments storing health related data qorql uses artificial intelligence big data products\n",
      "indian shuttler sameer verma advanced swiss open semifinals defeating former world number two japan kento momota commonwealth games champion parupalli kashyap defeated seventh seed victor svendsen denmark enter semifinals austrian open international challenge kashyap face fifth seed raul must estonia verma face kantaphon wangcharoen next\n",
      "google parent company alphabet owned artificial intelligence firm deepmind revealed computer programme alphazero learned chess rules four hours also revealed alphazero mastered game enough defeat world strongest open source chess engine stockfish last year deepmind programme alphago beat chinese game go champion lee sedol five game match\n",
      "us president donald trump tuesday signed order roll back barack obama era climate change regulations questioning us support international deal fight global warming regulations required us states slash carbon emissions power plants taking historic steps american energy reverse government intrusion cancel job killing regulations said trump\n",
      "us based aviation company aurora autonomous aerial cargo utility system enabled helicopter called uh successfully delivered cargo us marines first ever autonomous point point cargo resupply mission providing logistical support marines autonomous helicopter features onboard lidar based sensors enable avoid obstacles evaluate landing zones\n",
      "least seven karnataka ministers including cm hd kumaraswamy face criminal charges karnataka election watch adr report based poll affidavits state ministers revealed kumaraswamy charges include forgery causing disappearance evidence criminal breach trust apart kumaraswamy three congress one bsp two jd state ministers face criminal charges\n",
      "bollywood celebrities including shah rukh khan aishwarya rai bachchan katrina kaif present post engagement party reliance industries chairman mukesh ambani eldest son akash ambani diamond heiress shloka mehta karan johar kiran rao vidhu vinod chopra john abraham attended party cricketers harbhajhan singh zaheer khan also seen celebration\n",
      "maharashtra anti terrorism squad tuesday told special court five recently arrested hindu right wing group sanatan sanstha sympathisers planned plant bombs last year sunburn music festival pune believed electronic dance music festival hindu culture police added five arrested also involved throwing petrol bombs theatres screening padmaavat\n",
      "approved renaming faizabad allahabad samajwadi party president akhilesh yadav tweeted band pade hain saare kaam bikhra pada sab samaan tarakki ke ruke hain raste badal rahe hain bus naam om prakash rajbhar chief ruling nda constituent suheldev bhartiya samaj party tweeted diwali ali basey ram basey ramzan aisa hona chahiye apna hindustan\n",
      "food regulator fssai ceo pawan kumar agarwal wednesday inaugurated nestle first food safety institute india manesar haryana nestle food safety institute conduct training programmes food safety management systems testing methods global expertise help fssai taking informed decisions framing regulations nestle india md suresh narayanan said\n",
      "pm narendra modi maldives president ibrahim mohamed solih expressed confidence renewal bilateral ties maintaining security peace indian ocean joint statement solih swearing ceremony read pm modi assured solih india firm commitment helping maldives achieve sustainable economic development pm modi first maldives visit since assuming office\n",
      "several google employees worldwide staged walkout last week protest improper handling sexual misconduct allegations google ceo sundar pichai unveiled new policies curb sexual harassment workplace google would limit alcohol consumption office events arbitration harassment claims would made optional pichai also promised transparency cases\n",
      "university illinois researchers led iit delhi alumnus rohit bhargava built printer makes structures using sugar alcohol used make throat lozenges new printer creates delicate network thin ribbons rather making layer upon layer solid shell like commercial printers water soluble structures could used scaffolds growing tissue said bhargava\n",
      "bengaluru based car wash startup cleansecar raised crore angel funding incubation platform venture catalysts investors including omphalos venture india llp anil patel rishabh mahimtura also participated round founded cleansecar aims organise streamline car wash industry offers automotive care solutions including interior vacuum cleaning\n",
      "german astronomers studying galaxy clusters found largest ever extent magnetic fields universe edges clusters galaxy clusters large structures containing galaxies hot gas charged particles embedded dark matter collisions clusters generate arc like features traceable via radio emissions found magnetic fields extending million light years\n",
      "according research firm symbolic software china completely blocked whatsapp including exchange text messages ahead ruling party meeting next month july china partially blocked whatsapp disabling people sending photos videos voice notes symbolic software said china may recently upgraded firewall block whatsapp heavily encrypted messaging\n",
      "nepal prime minister sher bahadur deuba thursday met former prime minister manmohan singh congress president sonia gandhi delhi meeting discussed various bilateral issues friendship countries notably deuba also met pm narendra modi duo signed multiple pacts spheres including education health among others following delegation level talks\n",
      "new delhi based esports startup gamingmonk raised crore funding round led japan based venture capital fund incubate fund rajan anandan vice president google india south east asia investors including stellaris venture partners smile group also participated founded gamingmonk organises gaming tournaments across platforms pc console mobile\n",
      "japan planning acquire long range missiles counter country increasingly severe national security situation defence minister itsunori onodera said japan purchase long range anti ship missiles joint air surface standoff missiles comes amid increasing threats north korea recently tested highest ever intercontinental ballistic missile japan\n",
      "india friday protested order pakistan supreme court extending jurisdiction gilgit baltistan pakistan occupied kashmir calling interference india internal affairs india summoned pakistan deputy high commissioner protest order pakistan government judiciary locus standi territories illegally forcibly occupied external affairs ministry said\n",
      "israel based scientists modified specific proteins cancer cell division causes natural killing mechanism affected cells study mice transplanted triple negative breast cancer cells resistant current therapies revealed arrest tumour growth method may suitable treating aggressive cancers without harming healthy tissues said lead researcher\n",
      "union minister nitin gadkari friday announced world bank backed crore scheme improve irrigation facilities water accessibility capacity several states including maharashtra karnataka telangana gadkari also announced crore worth daman ganga pinjar inter state river connectivity project expected resolve domestic water supply demand mumbai\n",
      "addressing rajya sabha samajwadi party mp naresh agrawal thursday accused delhi lieutenant governor anil baijal treating cm arvind kejriwal like chaprasi came union minister vijay goel blamed aap led delhi government failing act illegal constructions bjp led municipal corporations responsible checking illegal constructions agrawal added\n",
      "indian cricketer yuvraj singh invested undisclosed amount delhi based startup creator gurukul co founded abhinav tandon mohammed sirajuddin gurukul offers shared office spaces investment fund youwecan ventures yuvraj singh previously invested startups like jetsetgo cargo logistics firm moovo online education startup edukart among others\n",
      "sp rajya sabha mp jaya bachchan recently declared assets worth crore making india richest politician meanwhile congress mp abhishek singhvi assets worth crore tdp mp jayadev galla declared assets worth crore ysr congress jaganmohan reddy congress savitri jindal former congress mp naveen jindal also feature top richest indian politicians\n",
      "according privacy international study least popular android apps like tripadvisor skyscanner send sensitive information facebook without users permission shared information includes analytics data sent launching app like android users unique id follows previous report said facebook collected sensitive information dating apps like tinder\n",
      "bollywood celebrities including katrina kaif kareena kapoor khan anushka sharma attended deepika padukone ranveer singh third wedding reception held mumbai grand hyatt hotel film industry saturday amitabh bachchan rekha shah rukh khan aishwarya rai bachchan karan johar sara ali khan ishaan khatter janhvi kapoor guests spotted reception\n"
     ]
    }
   ],
   "source": [
    "for row in data[50:100]['Text']:\n",
    "    print(row)"
   ]
  },
  {
   "cell_type": "code",
   "execution_count": 261,
   "id": "c418a869",
   "metadata": {},
   "outputs": [],
   "source": [
    "text = '. '.join(data['Text'][50:100].tolist())"
   ]
  },
  {
   "cell_type": "code",
   "execution_count": 262,
   "id": "77fea5dd",
   "metadata": {},
   "outputs": [
    {
     "data": {
      "text/plain": [
       "'gurugram based agriculture startup origo commodities raised nearly crore funding netherlands based oikocredit triodos investment management caspian sme impact fund iv bengaluru based firm unitus capital acted exclusive financial advisor transaction founded startup provides post harvest agriculture supply chain financing logistics solutions. bengaluru based edtech startup inurture raised crore series funding round led venture capital firm ventureast startup said existing investors bertelsmann india investments ascent capital also participated round founded inurture offers undergraduate postgraduate short term corporate certification programs subjects including cloud technology. addressing event mumbai israeli pm benjamin netanyahu thursday said world loves bollywood israel loves bollywood love bollywood netanyahu also invited several bollywood personalities including imtiaz ali amitabh bachchan karan johar click selfie stating selfie taken oscars went viral netanyahu said let hundred million people see friendship. google india vice president rajan anandan invested undisclosed sum bengaluru based online lingerie retailer buttercups intimates us based investor chandra chappadi snapdeal former chief product officer anand chandrasekaran also participated round founded arpita ganesh buttercups provides women innerwear runs online quiz help women find fit. activists human rights organisation amnesty international friday renamed street outside saudi arabia embassy london slain journalist jamal khashoggi erected mock khashoggi street sign mark one month since journalist murdered inside saudi arabia consulate turkey need see jamal khashoggi killers brought justice human rights organisation said. bengaluru based mobile payments startup tonetag raised million investors led amazon mastercard tonetag investors include manipal global education chairman mohandas pai premjiinvest chief investment officer tk kurien facebook executive anand chandrasekaran founded tonetag allows secure proximity payments using sound near field communication. british supermodel naomi campbell condoling late actress sridevi demise shared two pictures instagram stories wrote rip sridevi indian origin american author padma lakshmi also condoled demise instagram story several pakistani artistes including mahira khan rahat fateh ali khan ali zafar earlier tweeted condolence messages following demise. bengaluru based healthtech startup sigtuple raised million funding led accel partners idg ventures existing investor flipkart co founder binny bansal also participating series round founded april rohit kumar pandey tathagato rai dastidar apurv anand sigtuple builds artificial intelligence based hardware software digitise pathological tests. us house representatives approved fresh sanctions russia european commission president jean claude juncker said america first cannot mean europe interests come last comes sanctions also include penalties european companies engaged joint eu russia energy projects juncker also threatened retaliatory action us europe interests get affected nn. russian pranksters fooled us energy secretary rick perry believing discussing american coal exports pig manure ukrainian pm volodymyr groysman pranksters convinced perry ukrainian president petro poroshenko invented new biofuel made using pig manure home brewed alcohol perry called idea interesting saying looked forward meeting poroshenko. scientists developed compact low cost laser microscope times magnifying power conventional light based ones using nanoparticles shine light sub cellular structures super resolution bio imaging achieved particles measuring nm low power infrared laser microscope provides cheap alternative high power laser microscopes burn biological samples. switzerland nineteen time grand slam champion roger federer face south korea first ever grand slam semi finalist hyeon chung rd grand slam semi final friday world number two federer defeated tomas berdych straight sets wednesday world number chung ousted six time champion novak djokovic beat usa th ranked tennys sandgren earlier wednesday. wikileaks founder julian assange trolled cia director mike pompeo twitter pompeo called whistleblower organisation non state hostile intelligence service called non state intelligence service today state non intelligence agency produced al qaeda isis iraq iran assange tweeted pompeo also said assange associates make common cause dictators. rajasthan based rural health tech startup karma healthcare raised crore funding round equity crowdfunding platform crowd existing investors ankur capital ennovent capital beyond capital another undisclosed angel investor also participated funding round company said founded startup provides technology based healthcare solutions rural areas. punjab police arrested border security force jawan sheikh riyazuddin allegedly spying pakistan intelligence agency isi information includes sharing details barbed wire fencing footage border roads contact numbers bsf unit officers among others said police according police riyazuddin using facebook messenger mobile phones share information. north korea begun dismantling missile engine test site sohae satellite launching station reports citing satellite imagery claimed analysis images monitoring group north revealed north korea also began dismantling site used assemble space launch vehicles north korean leader kim jong un pledged denuclearise korean peninsula singapore summit. turkish billionaire ferit sahenk reportedly talks sell europe famous luxury hotels investment firm owned dubai ruler sheikh mohammed bin rashid al maktoum discussions reportedly involve properties including italy capri palace aldrovandi villa borghese rome istanbul grand hyatt dubai holding already owns luxury hotel company jumeirah group. coa appointed three member committee probe anonymous sexual harassment allegations bcci ceo rahul johri panel includes justice rakesh sharma ex cbi director pc sharma ex chairperson delhi commission women barkha singh coa member diana edulji six associations wanted johri ouster coa chairman vinod rai decided independent inquiry necessary. boston university scientists reprogrammed human cells make follow computer like instructions researchers created different logic circuits human kidney cells using genetic enzymes cut recombine dna strands technique gene manipulation could used program stem cells generate desired tissue killing tumour cells via biomarkers said researchers. us whistleblower edward snowden slammed harvard university withdrawing fellowship invitation ex us transgender soldier chelsea manning harvard invited cia men directed defended torture extrajudicial killings blocks whistleblower fear controversy snowden tweeted notably manning convicted giving classified us government materials wikileaks. shah rukh khan along children suhana khan aryan khan attended launch mumbai restaurant designed gauri khan numerous bollywood celebrities including alia bhatt sidharth malhotra sushant singh rajput kriti sanon spotted launch anil kapoor along daughter sonam kapoor jacqueline fernandez farah khan shweta bachchan nanda also attended launch. one biggest seed funding rounds indian startup ecosystem acko general insurance raised million seed funding funds raised narayan murthy catamaran ventures infosys co founder kris gopalakrishnan venture capital funds accel saif partners registered last year acko founded varun dua also co founded online insurance brokerage company coverfox. reliance industries chairman mukesh ambani daughter isha ambani priyanka chopra cousin parineeti chopra among celebrities part priyanka bachelorette sharing picture girls attended bachelorette priyanka wrote red white bride picture also shows priyanka future sister law sophie turner sonali bendre sister law srishti behl arya among others. online payments platform paytm invested undisclosed amount health tech startup qorql co founded parent company one communications former cto sanjay singh founded noida based qorql offers separate platforms doctors patients services like managing appointments storing health related data qorql uses artificial intelligence big data products. indian shuttler sameer verma advanced swiss open semifinals defeating former world number two japan kento momota commonwealth games champion parupalli kashyap defeated seventh seed victor svendsen denmark enter semifinals austrian open international challenge kashyap face fifth seed raul must estonia verma face kantaphon wangcharoen next. google parent company alphabet owned artificial intelligence firm deepmind revealed computer programme alphazero learned chess rules four hours also revealed alphazero mastered game enough defeat world strongest open source chess engine stockfish last year deepmind programme alphago beat chinese game go champion lee sedol five game match. us president donald trump tuesday signed order roll back barack obama era climate change regulations questioning us support international deal fight global warming regulations required us states slash carbon emissions power plants taking historic steps american energy reverse government intrusion cancel job killing regulations said trump. us based aviation company aurora autonomous aerial cargo utility system enabled helicopter called uh successfully delivered cargo us marines first ever autonomous point point cargo resupply mission providing logistical support marines autonomous helicopter features onboard lidar based sensors enable avoid obstacles evaluate landing zones. least seven karnataka ministers including cm hd kumaraswamy face criminal charges karnataka election watch adr report based poll affidavits state ministers revealed kumaraswamy charges include forgery causing disappearance evidence criminal breach trust apart kumaraswamy three congress one bsp two jd state ministers face criminal charges. bollywood celebrities including shah rukh khan aishwarya rai bachchan katrina kaif present post engagement party reliance industries chairman mukesh ambani eldest son akash ambani diamond heiress shloka mehta karan johar kiran rao vidhu vinod chopra john abraham attended party cricketers harbhajhan singh zaheer khan also seen celebration. maharashtra anti terrorism squad tuesday told special court five recently arrested hindu right wing group sanatan sanstha sympathisers planned plant bombs last year sunburn music festival pune believed electronic dance music festival hindu culture police added five arrested also involved throwing petrol bombs theatres screening padmaavat. approved renaming faizabad allahabad samajwadi party president akhilesh yadav tweeted band pade hain saare kaam bikhra pada sab samaan tarakki ke ruke hain raste badal rahe hain bus naam om prakash rajbhar chief ruling nda constituent suheldev bhartiya samaj party tweeted diwali ali basey ram basey ramzan aisa hona chahiye apna hindustan. food regulator fssai ceo pawan kumar agarwal wednesday inaugurated nestle first food safety institute india manesar haryana nestle food safety institute conduct training programmes food safety management systems testing methods global expertise help fssai taking informed decisions framing regulations nestle india md suresh narayanan said. pm narendra modi maldives president ibrahim mohamed solih expressed confidence renewal bilateral ties maintaining security peace indian ocean joint statement solih swearing ceremony read pm modi assured solih india firm commitment helping maldives achieve sustainable economic development pm modi first maldives visit since assuming office. several google employees worldwide staged walkout last week protest improper handling sexual misconduct allegations google ceo sundar pichai unveiled new policies curb sexual harassment workplace google would limit alcohol consumption office events arbitration harassment claims would made optional pichai also promised transparency cases. university illinois researchers led iit delhi alumnus rohit bhargava built printer makes structures using sugar alcohol used make throat lozenges new printer creates delicate network thin ribbons rather making layer upon layer solid shell like commercial printers water soluble structures could used scaffolds growing tissue said bhargava. bengaluru based car wash startup cleansecar raised crore angel funding incubation platform venture catalysts investors including omphalos venture india llp anil patel rishabh mahimtura also participated round founded cleansecar aims organise streamline car wash industry offers automotive care solutions including interior vacuum cleaning. german astronomers studying galaxy clusters found largest ever extent magnetic fields universe edges clusters galaxy clusters large structures containing galaxies hot gas charged particles embedded dark matter collisions clusters generate arc like features traceable via radio emissions found magnetic fields extending million light years. according research firm symbolic software china completely blocked whatsapp including exchange text messages ahead ruling party meeting next month july china partially blocked whatsapp disabling people sending photos videos voice notes symbolic software said china may recently upgraded firewall block whatsapp heavily encrypted messaging. nepal prime minister sher bahadur deuba thursday met former prime minister manmohan singh congress president sonia gandhi delhi meeting discussed various bilateral issues friendship countries notably deuba also met pm narendra modi duo signed multiple pacts spheres including education health among others following delegation level talks. new delhi based esports startup gamingmonk raised crore funding round led japan based venture capital fund incubate fund rajan anandan vice president google india south east asia investors including stellaris venture partners smile group also participated founded gamingmonk organises gaming tournaments across platforms pc console mobile. japan planning acquire long range missiles counter country increasingly severe national security situation defence minister itsunori onodera said japan purchase long range anti ship missiles joint air surface standoff missiles comes amid increasing threats north korea recently tested highest ever intercontinental ballistic missile japan. india friday protested order pakistan supreme court extending jurisdiction gilgit baltistan pakistan occupied kashmir calling interference india internal affairs india summoned pakistan deputy high commissioner protest order pakistan government judiciary locus standi territories illegally forcibly occupied external affairs ministry said. israel based scientists modified specific proteins cancer cell division causes natural killing mechanism affected cells study mice transplanted triple negative breast cancer cells resistant current therapies revealed arrest tumour growth method may suitable treating aggressive cancers without harming healthy tissues said lead researcher. union minister nitin gadkari friday announced world bank backed crore scheme improve irrigation facilities water accessibility capacity several states including maharashtra karnataka telangana gadkari also announced crore worth daman ganga pinjar inter state river connectivity project expected resolve domestic water supply demand mumbai. addressing rajya sabha samajwadi party mp naresh agrawal thursday accused delhi lieutenant governor anil baijal treating cm arvind kejriwal like chaprasi came union minister vijay goel blamed aap led delhi government failing act illegal constructions bjp led municipal corporations responsible checking illegal constructions agrawal added. indian cricketer yuvraj singh invested undisclosed amount delhi based startup creator gurukul co founded abhinav tandon mohammed sirajuddin gurukul offers shared office spaces investment fund youwecan ventures yuvraj singh previously invested startups like jetsetgo cargo logistics firm moovo online education startup edukart among others. sp rajya sabha mp jaya bachchan recently declared assets worth crore making india richest politician meanwhile congress mp abhishek singhvi assets worth crore tdp mp jayadev galla declared assets worth crore ysr congress jaganmohan reddy congress savitri jindal former congress mp naveen jindal also feature top richest indian politicians. according privacy international study least popular android apps like tripadvisor skyscanner send sensitive information facebook without users permission shared information includes analytics data sent launching app like android users unique id follows previous report said facebook collected sensitive information dating apps like tinder. bollywood celebrities including katrina kaif kareena kapoor khan anushka sharma attended deepika padukone ranveer singh third wedding reception held mumbai grand hyatt hotel film industry saturday amitabh bachchan rekha shah rukh khan aishwarya rai bachchan karan johar sara ali khan ishaan khatter janhvi kapoor guests spotted reception'"
      ]
     },
     "execution_count": 262,
     "metadata": {},
     "output_type": "execute_result"
    }
   ],
   "source": [
    "text"
   ]
  },
  {
   "cell_type": "code",
   "execution_count": 263,
   "id": "7b54f7ef",
   "metadata": {},
   "outputs": [],
   "source": [
    "summarized_text = summarize(text, split=True, ratio=0.2) #ratio=0.2(at default)"
   ]
  },
  {
   "cell_type": "code",
   "execution_count": 264,
   "id": "bb979de4",
   "metadata": {},
   "outputs": [
    {
     "data": {
      "text/plain": [
       "['gurugram based agriculture startup origo commodities raised nearly crore funding netherlands based oikocredit triodos investment management caspian sme impact fund iv bengaluru based firm unitus capital acted exclusive financial advisor transaction founded startup provides post harvest agriculture supply chain financing logistics solutions.',\n",
       " 'bengaluru based edtech startup inurture raised crore series funding round led venture capital firm ventureast startup said existing investors bertelsmann india investments ascent capital also participated round founded inurture offers undergraduate postgraduate short term corporate certification programs subjects including cloud technology.',\n",
       " 'google india vice president rajan anandan invested undisclosed sum bengaluru based online lingerie retailer buttercups intimates us based investor chandra chappadi snapdeal former chief product officer anand chandrasekaran also participated round founded arpita ganesh buttercups provides women innerwear runs online quiz help women find fit.',\n",
       " 'bengaluru based mobile payments startup tonetag raised million investors led amazon mastercard tonetag investors include manipal global education chairman mohandas pai premjiinvest chief investment officer tk kurien facebook executive anand chandrasekaran founded tonetag allows secure proximity payments using sound near field communication.',\n",
       " 'bengaluru based healthtech startup sigtuple raised million funding led accel partners idg ventures existing investor flipkart co founder binny bansal also participating series round founded april rohit kumar pandey tathagato rai dastidar apurv anand sigtuple builds artificial intelligence based hardware software digitise pathological tests.',\n",
       " 'rajasthan based rural health tech startup karma healthcare raised crore funding round equity crowdfunding platform crowd existing investors ankur capital ennovent capital beyond capital another undisclosed angel investor also participated funding round company said founded startup provides technology based healthcare solutions rural areas.',\n",
       " 'online payments platform paytm invested undisclosed amount health tech startup qorql co founded parent company one communications former cto sanjay singh founded noida based qorql offers separate platforms doctors patients services like managing appointments storing health related data qorql uses artificial intelligence big data products.',\n",
       " 'bengaluru based car wash startup cleansecar raised crore angel funding incubation platform venture catalysts investors including omphalos venture india llp anil patel rishabh mahimtura also participated round founded cleansecar aims organise streamline car wash industry offers automotive care solutions including interior vacuum cleaning.',\n",
       " 'new delhi based esports startup gamingmonk raised crore funding round led japan based venture capital fund incubate fund rajan anandan vice president google india south east asia investors including stellaris venture partners smile group also participated founded gamingmonk organises gaming tournaments across platforms pc console mobile.',\n",
       " 'indian cricketer yuvraj singh invested undisclosed amount delhi based startup creator gurukul co founded abhinav tandon mohammed sirajuddin gurukul offers shared office spaces investment fund youwecan ventures yuvraj singh previously invested startups like jetsetgo cargo logistics firm moovo online education startup edukart among others.']"
      ]
     },
     "execution_count": 264,
     "metadata": {},
     "output_type": "execute_result"
    }
   ],
   "source": [
    "summarized_text"
   ]
  },
  {
   "cell_type": "code",
   "execution_count": null,
   "id": "734100e6",
   "metadata": {},
   "outputs": [],
   "source": []
  },
  {
   "cell_type": "markdown",
   "id": "c6f4d3a2",
   "metadata": {},
   "source": [
    "회고\n",
    "- 추출적 요약으로 시도한 summa.summarize의 경우 라이브러리에서 중요 문장을 기반으로 중요 문장을 추출하였으며 \n",
    "    길이 등의 일부 입력 옵션을 맞춰주지 않을 경우 문장 내에서 요약이 잘 되지 않는 문제가 있었음\n",
    "    (데이터 특성 파악 과정을 거쳐 요약). \n",
    "- sequence 모델을 이용한 추상 요약 : 입력 옵션에 크게 신경쓰지 않고 데이터의 요약 방법을 직접 배우도록 할 수 있음"
   ]
  },
  {
   "cell_type": "code",
   "execution_count": null,
   "id": "50e684a8",
   "metadata": {},
   "outputs": [],
   "source": []
  },
  {
   "cell_type": "code",
   "execution_count": null,
   "id": "6aa98619",
   "metadata": {},
   "outputs": [],
   "source": []
  },
  {
   "cell_type": "code",
   "execution_count": null,
   "id": "99557085",
   "metadata": {},
   "outputs": [],
   "source": []
  }
 ],
 "metadata": {
  "kernelspec": {
   "display_name": "Python 3 (ipykernel)",
   "language": "python",
   "name": "python3"
  },
  "language_info": {
   "codemirror_mode": {
    "name": "ipython",
    "version": 3
   },
   "file_extension": ".py",
   "mimetype": "text/x-python",
   "name": "python",
   "nbconvert_exporter": "python",
   "pygments_lexer": "ipython3",
   "version": "3.9.7"
  }
 },
 "nbformat": 4,
 "nbformat_minor": 5
}
